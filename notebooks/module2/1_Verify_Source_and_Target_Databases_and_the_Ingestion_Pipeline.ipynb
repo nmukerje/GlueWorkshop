{
 "cells": [
  {
   "cell_type": "markdown",
   "metadata": {},
   "source": [
    "# Verify Source and Target Databases and the Ingestion Pipeline\n",
    "\n",
    "## Table of Contents:\n",
    "\n",
    "1. [Overview](#Overview)\n",
    "2. [Aurora MySQL as Source Database](#Aurora-MySQL-as-Source-Database)\n",
    "3. [Amazon Redshift as Data Warehouse](#Amazon-Redshift-as-Data-Warehouse)\n",
    "4. [AWS DMS as Near Real-Time Ingestion Pipeline](#AWS-DMS-as-Near-Real-Time-Ingestion-Pipeline)\n",
    "5. [Simulate Inserts](#Simulate-Inserts)"
   ]
  },
  {
   "cell_type": "markdown",
   "metadata": {},
   "source": [
    "### Overview\n",
    "\n",
    "We will use this notebook to verify that our Aurora MySQL and Amazon Redshift Databases are up and running. \n",
    "\n",
    "The Aurora MySQL database will serve as the source of transactions, and the Amazon Redshift database will serve as the target Data Warehouse. We will execute inserts from this notebook as well to simulate new transactions.\n",
    "\n",
    "<img src=\"../resources/module2_architecture_diagram.png\" alt=\"Module2 Architecture Diagram]\" style=\"width: 1000px;\"/>\n",
    "\n",
    "### Aurora MySQL as Source Database\n",
    "\n",
    "Let's first test connectivity to our database:"
   ]
  },
  {
   "cell_type": "code",
   "execution_count": 1,
   "metadata": {
    "ExecuteTime": {
     "end_time": "2020-05-07T17:08:34.857514Z",
     "start_time": "2020-05-07T17:08:34.503660Z"
    }
   },
   "outputs": [],
   "source": [
    "import MySQLdb,random,time\n",
    "from tqdm.notebook import trange, tqdm\n",
    "\n",
    "host = '###mysql_host###'\n",
    "user = 'master'\n",
    "password = '###password###'\n",
    "port = 3306\n",
    "db = 'salesdb'\n",
    "\n",
    "conn = MySQLdb.Connection(\n",
    "    host=host,\n",
    "    user=user,\n",
    "    passwd=password,\n",
    "    port=port,\n",
    "    db=db\n",
    ")"
   ]
  },
  {
   "cell_type": "markdown",
   "metadata": {},
   "source": [
    "Let's run some SQL statements. We will use the following helper functions to execute SQL statements:"
   ]
  },
  {
   "cell_type": "code",
   "execution_count": 2,
   "metadata": {
    "ExecuteTime": {
     "end_time": "2020-05-07T17:08:39.430893Z",
     "start_time": "2020-05-07T17:08:39.426920Z"
    }
   },
   "outputs": [],
   "source": [
    "def execute_sql(sql):\n",
    "    results=[]\n",
    "    conn.query(sql)\n",
    "    result = conn.store_result()\n",
    "    for i in range(result.num_rows()):\n",
    "        r = result.fetch_row()\n",
    "        #print(r)\n",
    "        results.append(r)\n",
    "    return results\n",
    "        \n",
    "def execute_dml(sql):\n",
    "    conn.query(sql)\n",
    "    rowcount = conn.affected_rows()\n",
    "    print (\"Rows updated: %d\"%rowcount)\n",
    "    conn.commit()"
   ]
  },
  {
   "cell_type": "code",
   "execution_count": 3,
   "metadata": {
    "ExecuteTime": {
     "end_time": "2020-05-07T17:08:42.407493Z",
     "start_time": "2020-05-07T17:08:42.395334Z"
    }
   },
   "outputs": [
    {
     "data": {
      "text/plain": [
       "[(('CUSTOMER',),),\n",
       " (('CUSTOMER_SITE',),),\n",
       " (('PRODUCT',),),\n",
       " (('PRODUCT_CATEGORY',),),\n",
       " (('SALES_ORDER',),),\n",
       " (('SALES_ORDER_ALL',),),\n",
       " (('SALES_ORDER_DETAIL',),),\n",
       " (('SALES_ORDER_DETAIL_DS',),),\n",
       " (('SALES_ORDER_V',),),\n",
       " (('SUPPLIER',),)]"
      ]
     },
     "execution_count": 3,
     "metadata": {},
     "output_type": "execute_result"
    }
   ],
   "source": [
    "execute_sql(\"show tables\")"
   ]
  },
  {
   "cell_type": "markdown",
   "metadata": {},
   "source": [
    "This is a generic SALES OLTP schema. Of the tables above, the SALES_ORDER_DETAIL is the one for which we will be inserting records."
   ]
  },
  {
   "cell_type": "markdown",
   "metadata": {},
   "source": [
    "### Amazon Redshift as Data Warehouse\n",
    "\n",
    "Let's test connectivity to our target datawarehouse:"
   ]
  },
  {
   "cell_type": "code",
   "execution_count": 4,
   "metadata": {
    "ExecuteTime": {
     "end_time": "2020-05-07T17:08:45.391129Z",
     "start_time": "2020-05-07T17:08:44.740943Z"
    }
   },
   "outputs": [
    {
     "name": "stderr",
     "output_type": "stream",
     "text": [
      "/home/ec2-user/anaconda3/envs/python3/lib/python3.6/site-packages/psycopg2/__init__.py:144: UserWarning: The psycopg2 wheel package will be renamed from release 2.8; in order to keep installing from binary please use \"pip install psycopg2-binary\" instead. For details see: <http://initd.org/psycopg/docs/install.html#binary-install-from-pypi>.\n",
      "  \"\"\")\n"
     ]
    }
   ],
   "source": [
    "import psycopg2\n",
    "\n",
    "rs_host='###redshift_host###'\n",
    "rs_dbname='sales_analytics_dw'\n",
    "rs_user = 'awsuser'\n",
    "rs_password = '###password###'\n",
    "rs_port = 5439\n",
    "\n",
    "con=psycopg2.connect(dbname=rs_dbname, host=rs_host, port=rs_port, user=rs_user, password=rs_password)\n"
   ]
  },
  {
   "cell_type": "markdown",
   "metadata": {},
   "source": [
    "Now that the connectivity to the Amazon Redshift database is working fine, let's load the schema to the Amazon Redshift database:"
   ]
  },
  {
   "cell_type": "code",
   "execution_count": 5,
   "metadata": {
    "ExecuteTime": {
     "end_time": "2020-05-07T17:08:48.234130Z",
     "start_time": "2020-05-07T17:08:48.002617Z"
    }
   },
   "outputs": [
    {
     "name": "stdout",
     "output_type": "stream",
     "text": [
      "    ('customer_dim',)\n",
      "    ('date_dim',)\n",
      "    ('product_dim',)\n",
      "    ('sales_order_fact',)\n",
      "    ('supplier_dim',)\n"
     ]
    }
   ],
   "source": [
    "def load_redshift_schemas(conn, scriptFileName):\n",
    "    with open (scriptFileName, \"r\") as scriptfile:\n",
    "        contents=scriptfile.read()\n",
    "    commands=[]\n",
    "    for sql in str(contents).split(\";\")[:-1]:\n",
    "        commands.append(sql)\n",
    "    for sql in commands:\n",
    "        cursor = con.cursor()\n",
    "        cursor.execute(sql)\n",
    "        cursor.close()\n",
    "        # commit the changes\n",
    "        con.commit()\n",
    "    cursor = con.cursor()\n",
    "    cursor.execute(\"Select distinct tablename from PG_TABLE_DEF where schemaname = 'public'\")\n",
    "    rows = cursor.fetchall()\n",
    "    for row in rows:\n",
    "        print (\"   \", row)\n",
    "    cursor.close()\n",
    "\n",
    "load_redshift_schemas(con,'redshift-schema.sql')"
   ]
  },
  {
   "cell_type": "markdown",
   "metadata": {},
   "source": [
    "### AWS DMS as Near Real-Time Ingestion Pipeline\n",
    "\n",
    "In this step we will execute a full load of data from this database to Amazon S3 using AWS DMS:\n",
    "\n",
    "- Navigate to the DMS Console by clicking on Services -> DMS. \n",
    "- Locate the menu item Conversion & migration->Database migration tasks from the left-hand panel of the DMS Console.\n",
    "- Select the only Replication Task item and click on the button Actions -> Restart/Resume to start this task.\n",
    "- You can monitor the progress of this task by clicking on the task link and viewing the 'Table Statistics' tab. "
   ]
  },
  {
   "cell_type": "markdown",
   "metadata": {},
   "source": [
    "### Simulate some Inserts\n",
    "\n",
    "Let's perform some Inserts to our data. We will use the helper function below to perform the inserts."
   ]
  },
  {
   "cell_type": "code",
   "execution_count": 6,
   "metadata": {
    "ExecuteTime": {
     "end_time": "2020-05-07T17:08:51.097728Z",
     "start_time": "2020-05-07T17:08:51.093674Z"
    }
   },
   "outputs": [],
   "source": [
    "def insert_orders(order_id,new_order_id):\n",
    "    print (new_order_id)\n",
    "    execute_dml(\"insert into SALES_ORDER( ORDER_ID, SITE_ID,ORDER_DATE,SHIP_MODE ) select %d,  SITE_ID,ORDER_DATE,SHIP_MODE from SALES_ORDER where ORDER_ID=%d\"%(new_order_id,order_id))\n",
    "    execute_dml(\"insert into SALES_ORDER_DETAIL( ORDER_ID, LINE_ID,LINE_NUMBER,PRODUCT_ID,QUANTITY,UNIT_PRICE,DISCOUNT,SUPPLY_COST,TAX,ORDER_DATE ) select %d, 5000000+LINE_ID,LINE_NUMBER,PRODUCT_ID,QUANTITY,UNIT_PRICE,DISCOUNT,SUPPLY_COST,TAX,ORDER_DATE from SALES_ORDER_DETAIL where ORDER_ID=%d\"%(new_order_id,order_id))   \n",
    "    \n",
    "def generate_orders(n):\n",
    "    new_order_id=execute_sql('select max(order_id) FROM SALES_ORDER')[0][0][0]\n",
    "    for i in tqdm(range(n)):\n",
    "        order_id=random.randint(1,29000)\n",
    "        new_order_id +=1\n",
    "        insert_orders(order_id,new_order_id)"
   ]
  },
  {
   "cell_type": "code",
   "execution_count": 7,
   "metadata": {
    "ExecuteTime": {
     "end_time": "2020-05-07T17:09:01.702310Z",
     "start_time": "2020-05-07T17:08:55.046136Z"
    }
   },
   "outputs": [
    {
     "data": {
      "application/vnd.jupyter.widget-view+json": {
       "model_id": "2a72a80ff18f4f1ba0dbb983d594cda2",
       "version_major": 2,
       "version_minor": 0
      },
      "text/plain": [
       "HBox(children=(FloatProgress(value=0.0), HTML(value='')))"
      ]
     },
     "metadata": {},
     "output_type": "display_data"
    },
    {
     "name": "stdout",
     "output_type": "stream",
     "text": [
      "29001\n",
      "Rows updated: 1\n",
      "Rows updated: 6\n",
      "29002\n",
      "Rows updated: 1\n",
      "Rows updated: 8\n",
      "29003\n",
      "Rows updated: 1\n",
      "Rows updated: 6\n",
      "29004\n",
      "Rows updated: 1\n",
      "Rows updated: 1\n",
      "29005\n",
      "Rows updated: 1\n",
      "Rows updated: 5\n",
      "29006\n",
      "Rows updated: 1\n",
      "Rows updated: 2\n",
      "29007\n",
      "Rows updated: 1\n",
      "Rows updated: 2\n",
      "29008\n",
      "Rows updated: 1\n",
      "Rows updated: 1\n",
      "29009\n",
      "Rows updated: 1\n",
      "Rows updated: 10\n",
      "29010\n",
      "Rows updated: 1\n",
      "Rows updated: 4\n",
      "29011\n",
      "Rows updated: 1\n",
      "Rows updated: 2\n",
      "29012\n",
      "Rows updated: 1\n",
      "Rows updated: 2\n",
      "29013\n",
      "Rows updated: 1\n",
      "Rows updated: 6\n",
      "29014\n",
      "Rows updated: 1\n",
      "Rows updated: 2\n",
      "29015\n",
      "Rows updated: 1\n",
      "Rows updated: 1\n",
      "29016\n",
      "Rows updated: 1\n",
      "Rows updated: 2\n",
      "29017\n",
      "Rows updated: 1\n",
      "Rows updated: 4\n",
      "29018\n",
      "Rows updated: 1\n",
      "Rows updated: 1\n",
      "29019\n",
      "Rows updated: 1\n",
      "Rows updated: 4\n",
      "29020\n",
      "Rows updated: 1\n",
      "Rows updated: 3\n",
      "29021\n",
      "Rows updated: 1\n",
      "Rows updated: 4\n",
      "29022\n",
      "Rows updated: 1\n",
      "Rows updated: 5\n",
      "29023\n",
      "Rows updated: 1\n",
      "Rows updated: 4\n",
      "29024\n",
      "Rows updated: 1\n",
      "Rows updated: 1\n",
      "29025\n",
      "Rows updated: 1\n",
      "Rows updated: 2\n",
      "29026\n",
      "Rows updated: 1\n",
      "Rows updated: 2\n",
      "29027\n",
      "Rows updated: 1\n",
      "Rows updated: 1\n",
      "29028\n",
      "Rows updated: 1\n",
      "Rows updated: 7\n",
      "29029\n",
      "Rows updated: 1\n",
      "Rows updated: 4\n",
      "29030\n",
      "Rows updated: 1\n",
      "Rows updated: 5\n",
      "29031\n",
      "Rows updated: 1\n",
      "Rows updated: 3\n",
      "29032\n",
      "Rows updated: 1\n",
      "Rows updated: 4\n",
      "29033\n",
      "Rows updated: 1\n",
      "Rows updated: 3\n",
      "29034\n",
      "Rows updated: 1\n",
      "Rows updated: 5\n",
      "29035\n",
      "Rows updated: 1\n",
      "Rows updated: 3\n",
      "29036\n",
      "Rows updated: 1\n",
      "Rows updated: 9\n",
      "29037\n",
      "Rows updated: 1\n",
      "Rows updated: 3\n",
      "29038\n",
      "Rows updated: 1\n",
      "Rows updated: 6\n",
      "29039\n",
      "Rows updated: 1\n",
      "Rows updated: 3\n",
      "29040\n",
      "Rows updated: 1\n",
      "Rows updated: 2\n",
      "29041\n",
      "Rows updated: 1\n",
      "Rows updated: 7\n",
      "29042\n",
      "Rows updated: 1\n",
      "Rows updated: 2\n",
      "29043\n",
      "Rows updated: 1\n",
      "Rows updated: 3\n",
      "29044\n",
      "Rows updated: 1\n",
      "Rows updated: 3\n",
      "29045\n",
      "Rows updated: 1\n",
      "Rows updated: 4\n",
      "29046\n",
      "Rows updated: 1\n",
      "Rows updated: 2\n",
      "29047\n",
      "Rows updated: 1\n",
      "Rows updated: 2\n",
      "29048\n",
      "Rows updated: 1\n",
      "Rows updated: 3\n",
      "29049\n",
      "Rows updated: 1\n",
      "Rows updated: 3\n",
      "29050\n",
      "Rows updated: 1\n",
      "Rows updated: 3\n",
      "29051\n",
      "Rows updated: 1\n",
      "Rows updated: 8\n",
      "29052\n",
      "Rows updated: 1\n",
      "Rows updated: 6\n",
      "29053\n",
      "Rows updated: 1\n",
      "Rows updated: 3\n",
      "29054\n",
      "Rows updated: 1\n",
      "Rows updated: 2\n",
      "29055\n",
      "Rows updated: 1\n",
      "Rows updated: 10\n",
      "29056\n",
      "Rows updated: 1\n",
      "Rows updated: 1\n",
      "29057\n",
      "Rows updated: 1\n",
      "Rows updated: 6\n",
      "29058\n",
      "Rows updated: 1\n",
      "Rows updated: 2\n",
      "29059\n",
      "Rows updated: 1\n",
      "Rows updated: 6\n",
      "29060\n",
      "Rows updated: 1\n",
      "Rows updated: 3\n",
      "29061\n",
      "Rows updated: 1\n",
      "Rows updated: 4\n",
      "29062\n",
      "Rows updated: 1\n",
      "Rows updated: 2\n",
      "29063\n",
      "Rows updated: 1\n",
      "Rows updated: 2\n",
      "29064\n",
      "Rows updated: 1\n",
      "Rows updated: 6\n",
      "29065\n",
      "Rows updated: 1\n",
      "Rows updated: 3\n",
      "29066\n",
      "Rows updated: 1\n",
      "Rows updated: 3\n",
      "29067\n",
      "Rows updated: 1\n",
      "Rows updated: 6\n",
      "29068\n",
      "Rows updated: 1\n",
      "Rows updated: 4\n",
      "29069\n",
      "Rows updated: 1\n",
      "Rows updated: 7\n",
      "29070\n",
      "Rows updated: 1\n",
      "Rows updated: 4\n",
      "29071\n",
      "Rows updated: 1\n",
      "Rows updated: 3\n",
      "29072\n",
      "Rows updated: 1\n",
      "Rows updated: 2\n",
      "29073\n",
      "Rows updated: 1\n",
      "Rows updated: 4\n",
      "29074\n",
      "Rows updated: 1\n",
      "Rows updated: 2\n",
      "29075\n",
      "Rows updated: 1\n",
      "Rows updated: 2\n",
      "29076\n",
      "Rows updated: 1\n",
      "Rows updated: 9\n",
      "29077\n",
      "Rows updated: 1\n",
      "Rows updated: 1\n",
      "29078\n",
      "Rows updated: 1\n",
      "Rows updated: 3\n",
      "29079\n",
      "Rows updated: 1\n",
      "Rows updated: 5\n",
      "29080\n",
      "Rows updated: 1\n",
      "Rows updated: 1\n",
      "29081\n",
      "Rows updated: 1\n",
      "Rows updated: 3\n",
      "29082\n",
      "Rows updated: 1\n",
      "Rows updated: 9\n",
      "29083\n",
      "Rows updated: 1\n",
      "Rows updated: 2\n",
      "29084\n",
      "Rows updated: 1\n",
      "Rows updated: 2\n",
      "29085\n",
      "Rows updated: 1\n",
      "Rows updated: 2\n",
      "29086\n",
      "Rows updated: 1\n",
      "Rows updated: 2\n",
      "29087\n",
      "Rows updated: 1\n",
      "Rows updated: 3\n",
      "29088\n",
      "Rows updated: 1\n",
      "Rows updated: 2\n",
      "29089\n",
      "Rows updated: 1\n",
      "Rows updated: 6\n",
      "29090\n",
      "Rows updated: 1\n",
      "Rows updated: 5\n",
      "29091\n",
      "Rows updated: 1\n",
      "Rows updated: 2\n",
      "29092\n",
      "Rows updated: 1\n",
      "Rows updated: 2\n",
      "29093\n",
      "Rows updated: 1\n",
      "Rows updated: 9\n",
      "29094\n",
      "Rows updated: 1\n",
      "Rows updated: 5\n",
      "29095\n",
      "Rows updated: 1\n",
      "Rows updated: 7\n",
      "29096\n",
      "Rows updated: 1\n",
      "Rows updated: 4\n",
      "29097\n",
      "Rows updated: 1\n",
      "Rows updated: 5\n",
      "29098\n",
      "Rows updated: 1\n",
      "Rows updated: 5\n",
      "29099\n",
      "Rows updated: 1\n",
      "Rows updated: 1\n",
      "29100\n",
      "Rows updated: 1\n",
      "Rows updated: 5\n",
      "\n"
     ]
    }
   ],
   "source": [
    "generate_orders(100)"
   ]
  },
  {
   "cell_type": "markdown",
   "metadata": {},
   "source": [
    "We can view the updates that AWS DMS has pushed through using the 'Table Statistics' tab for the Replication task within the AWS DMS Console.\n",
    "\n",
    "<div class=\"alert alert-block alert-info\"><b>Note:</b> Please keep this notebook open as we move to the 2nd notebook in this Module to execute the AWS Glue incremental ETL jobs. We will execute the cell above again when we need to insert more data.</div>"
   ]
  },
  {
   "cell_type": "code",
   "execution_count": null,
   "metadata": {},
   "outputs": [],
   "source": []
  }
 ],
 "metadata": {
  "kernelspec": {
   "display_name": "conda_python3",
   "language": "python",
   "name": "conda_python3"
  },
  "language_info": {
   "codemirror_mode": {
    "name": "ipython",
    "version": 3
   },
   "file_extension": ".py",
   "mimetype": "text/x-python",
   "name": "python",
   "nbconvert_exporter": "python",
   "pygments_lexer": "ipython3",
   "version": "3.6.5"
  }
 },
 "nbformat": 4,
 "nbformat_minor": 4
}
