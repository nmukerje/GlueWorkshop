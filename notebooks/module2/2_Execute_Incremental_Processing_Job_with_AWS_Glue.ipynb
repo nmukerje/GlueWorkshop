{
 "cells": [
  {
   "cell_type": "markdown",
   "metadata": {},
   "source": [
    "# Execute Incremental Processing Job with AWS Glue\n",
    "\n",
    "## Table of Contents:\n",
    "\n",
    "1. [Overview](#Overview)\n",
    "2. [Execute the Full Load Pipeline](#Execute-the-Full-Load-Pipeline)\n",
    "3. [Execute the Incremental Load Pipeline](#Execute-the-Incremental-Load-Pipeline)\n",
    "4. [Wrap-up](#Wrap-up)"
   ]
  },
  {
   "cell_type": "markdown",
   "metadata": {},
   "source": [
    "## Overview\n",
    "\n",
    "We will continue this module to implement the data pipeline below in this notebook. \n",
    "\n",
    "<img src=\"../resources/module2_architecture_diagram.png\" alt=\"Module2 Architecture Diagram]\" style=\"width: 1000px;\"/>\n",
    "\n",
    "In this notebook, we will run the following steps :\n",
    "\n",
    "* Define a AWS Glue Database Connection for the Amazon Redshift Database.\n",
    "* Crawl the Amazon Redshift Database to load the tables in the AWS Glue Catalog.\n",
    "* Execute the full load job.\n",
    "* Deploy and execute the incremental job with AWS Glue Bookmarking enabled.\n",
    "* Execute some Insert statements.\n",
    "* Crawl the incremental data tables. \n",
    "* Run the incremental job and Validate Results.\n",
    "* Repeat steps 5 and 6 to demonstrate the AWS Glue Bookmarking feature."
   ]
  },
  {
   "cell_type": "markdown",
   "metadata": {},
   "source": [
    "## Execute the Full Load Pipeline\n",
    "\n",
    "\n",
    "#### Define the AWS Glue Database Connection\n",
    "\n",
    "**Step 1**: Create a AWS Glue Database connection to the Amazon Redshift Database:\n",
    "\n",
    "- Navigate to the AWS Glue console at Services -> AWS Glue\n",
    "- From the left-hand panel menu, navigate to Data Catalog -> Databases -> Connections.\n",
    "- Click on the button ‘Add Connection’ to create a new AWS Glue Database Connection.\n",
    "- Fields to fill in:\n",
    "   - Page:  Set up your connection’s properties. \n",
    "      - Connection name: **redshiftdb**\n",
    "      - Connection type: **Amazon Redshift**\n",
    "   - Page: Set up access to your data store.\n",
    "      - Cluster: Select the Redshift Cluster\n",
    "      - Database name: **sales_analytics_dw**\n",
    "      - Username: **awsuser**\n",
    "      - Password: **S3cretPwd99**\n",
    "- Click on the button ‘Finish’ to create the AWS Glue Database Connection.\n",
    "- Select the new AWS Glue Database Connection and click on 'Test Connection' to test connectivity.\n",
    "\n",
    "#### Crawl the Redshift Schema\n",
    "\n",
    "\n",
    "**Step 2**: Let's run a AWS Glue Crawler on the schema in the Amazon Redshift Database:\n",
    "\n",
    "- Navigate to the AWS Glue console at Services -> AWS Glue\n",
    "- From the left-hand panel menu, navigate to Data Catalog -> Crawlers.\n",
    "- Click on the button ‘Add Crawler’ to create a new AWS Glue Crawler.\n",
    "- Fields to fill in:\n",
    "  - Page: Add information about your crawler\n",
    "     - Crawler name: **redshift_sales_analytics_crawler**\n",
    "  - Page: Add a data store\n",
    "     - Choose a data store: **JDBC**\n",
    "     - Connection: **redshiftdb**\n",
    "     - Include path: **sales_analytics_dw/public/%**\n",
    "  - Page: Choose an IAM role\n",
    "     - IAM Role: Choose the IAM Role **glue-labs\\*GlueServiceRole**\n",
    "  - Page: Configure the crawler's output\n",
    "     - Database: Click on ‘Add database’ and enter database name as **redshift_sales_analytics**.\n",
    "    \n",
    "- Click on the button ‘Finish’ to create the crawler.\n",
    "- Select the new Crawler and click on 'Run crawler' to run the Crawler.\n"
   ]
  },
  {
   "cell_type": "code",
   "execution_count": 1,
   "metadata": {
    "ExecuteTime": {
     "end_time": "2020-05-07T17:27:23.690395Z",
     "start_time": "2020-05-07T17:26:54.493731Z"
    }
   },
   "outputs": [
    {
     "name": "stdout",
     "output_type": "stream",
     "text": [
      "Starting Spark application\n"
     ]
    },
    {
     "data": {
      "text/html": [
       "<table>\n",
       "<tr><th>ID</th><th>YARN Application ID</th><th>Kind</th><th>State</th><th>Spark UI</th><th>Driver log</th><th>Current session?</th></tr><tr><td>0</td><td>application_1588867810053_0001</td><td>pyspark</td><td>idle</td><td><a target=\"_blank\" href=\"http://ip-10-0-5-172.us-west-2.compute.internal:20888/proxy/application_1588867810053_0001/\">Link</a></td><td><a target=\"_blank\" href=\"http://ip-10-0-3-203.us-west-2.compute.internal:8042/node/containerlogs/container_1588867810053_0001_01_000001/livy\">Link</a></td><td>✔</td></tr></table>"
      ],
      "text/plain": [
       "<IPython.core.display.HTML object>"
      ]
     },
     "metadata": {},
     "output_type": "display_data"
    },
    {
     "data": {
      "application/vnd.jupyter.widget-view+json": {
       "model_id": "",
       "version_major": 2,
       "version_minor": 0
      },
      "text/plain": [
       "FloatProgress(value=0.0, bar_style='info', description='Progress:', layout=Layout(height='25px', width='50%'),…"
      ]
     },
     "metadata": {},
     "output_type": "display_data"
    },
    {
     "name": "stdout",
     "output_type": "stream",
     "text": [
      "SparkSession available as 'spark'.\n"
     ]
    },
    {
     "data": {
      "application/vnd.jupyter.widget-view+json": {
       "model_id": "",
       "version_major": 2,
       "version_minor": 0
      },
      "text/plain": [
       "FloatProgress(value=0.0, bar_style='info', description='Progress:', layout=Layout(height='25px', width='50%'),…"
      ]
     },
     "metadata": {},
     "output_type": "display_data"
    }
   ],
   "source": [
    "## We will simulate the AWS Glue job arguments \n",
    "import sys\n",
    "sys.argv = [\"load_SALES_ORDER_FACT.py\",\"--JOB_NAME\", \"load_SALES_ORDER_FACT\",\"--TempDir\",\"s3://###s3_bucket###/data/temp/\"]"
   ]
  },
  {
   "cell_type": "code",
   "execution_count": 2,
   "metadata": {
    "ExecuteTime": {
     "end_time": "2020-05-07T17:27:53.396008Z",
     "start_time": "2020-05-07T17:27:52.086399Z"
    }
   },
   "outputs": [
    {
     "data": {
      "application/vnd.jupyter.widget-view+json": {
       "model_id": "",
       "version_major": 2,
       "version_minor": 0
      },
      "text/plain": [
       "FloatProgress(value=0.0, bar_style='info', description='Progress:', layout=Layout(height='25px', width='50%'),…"
      ]
     },
     "metadata": {},
     "output_type": "display_data"
    },
    {
     "name": "stdout",
     "output_type": "stream",
     "text": [
      "load_SALES_ORDER_FACT START..."
     ]
    }
   ],
   "source": [
    "## Glue boilerplate code\n",
    "\n",
    "import sys\n",
    "from awsglue.transforms import *\n",
    "from awsglue.utils import getResolvedOptions\n",
    "from pyspark.context import SparkContext\n",
    "from awsglue.context import GlueContext\n",
    "from awsglue.job import Job\n",
    "import boto3, json\n",
    "from awsglue.context import GlueContext, DynamicFrame\n",
    "\n",
    "args = getResolvedOptions(sys.argv, ['JOB_NAME'])\n",
    "print (args['JOB_NAME']+\" START...\")\n",
    "if 'sc' not in vars(): sc = SparkContext()\n",
    "glueContext = GlueContext(SparkContext.getOrCreate())\n",
    "spark = glueContext.spark_session\n",
    "job = Job(glueContext)\n",
    "job.init(args['JOB_NAME'], args)\n",
    "\n",
    "## Glue boilerplate code"
   ]
  },
  {
   "cell_type": "markdown",
   "metadata": {},
   "source": [
    "Let's read the first table - SALES_ORDER:"
   ]
  },
  {
   "cell_type": "code",
   "execution_count": 3,
   "metadata": {
    "ExecuteTime": {
     "end_time": "2020-05-07T17:28:11.920540Z",
     "start_time": "2020-05-07T17:27:56.538337Z"
    }
   },
   "outputs": [
    {
     "data": {
      "application/vnd.jupyter.widget-view+json": {
       "model_id": "",
       "version_major": 2,
       "version_minor": 0
      },
      "text/plain": [
       "FloatProgress(value=0.0, bar_style='info', description='Progress:', layout=Layout(height='25px', width='50%'),…"
      ]
     },
     "metadata": {},
     "output_type": "display_data"
    },
    {
     "name": "stdout",
     "output_type": "stream",
     "text": [
      "Rows read from table: SALES_ORDER : 29100\n",
      "root\n",
      "|-- ORDER_ID: int\n",
      "|-- SITE_ID: double\n",
      "|-- ORDER_DATE: timestamp\n",
      "|-- SHIP_MODE: string"
     ]
    }
   ],
   "source": [
    "datasource0 = glueContext.create_dynamic_frame_from_options(\"s3\", {'paths': [\"s3://###s3_bucket###/dms-full-load-path/salesdb/SALES_ORDER/\"]}, format=\"parquet\")\n",
    "print \"Rows read from table: SALES_ORDER : \"+str(datasource0.count())\n",
    "datasource0.printSchema()"
   ]
  },
  {
   "cell_type": "markdown",
   "metadata": {},
   "source": [
    "Let's read the second table - SALES_ORDER_DETAIL:"
   ]
  },
  {
   "cell_type": "code",
   "execution_count": 4,
   "metadata": {
    "ExecuteTime": {
     "end_time": "2020-05-07T17:28:19.422747Z",
     "start_time": "2020-05-07T17:28:17.074075Z"
    }
   },
   "outputs": [
    {
     "data": {
      "application/vnd.jupyter.widget-view+json": {
       "model_id": "",
       "version_major": 2,
       "version_minor": 0
      },
      "text/plain": [
       "FloatProgress(value=0.0, bar_style='info', description='Progress:', layout=Layout(height='25px', width='50%'),…"
      ]
     },
     "metadata": {},
     "output_type": "display_data"
    },
    {
     "name": "stdout",
     "output_type": "stream",
     "text": [
      "Rows read from table: SALES_ORDER_DETAIL : 98381\n",
      "root\n",
      "|-- LINE_ID: int\n",
      "|-- LINE_NUMBER: int\n",
      "|-- ORDER_ID: int\n",
      "|-- PRODUCT_ID: int\n",
      "|-- QUANTITY: int\n",
      "|-- UNIT_PRICE: decimal\n",
      "|-- DISCOUNT: decimal\n",
      "|-- SUPPLY_COST: decimal\n",
      "|-- TAX: decimal\n",
      "|-- ORDER_DATE: date"
     ]
    }
   ],
   "source": [
    "datasource1 = glueContext.create_dynamic_frame_from_options(\"s3\", {'paths': [\"s3://###s3_bucket###/dms-full-load-path/salesdb/SALES_ORDER_DETAIL/\"]}, format=\"parquet\")\n",
    "print \"Rows read from table: SALES_ORDER_DETAIL : \"+str(datasource1.count())\n",
    "datasource1.printSchema()"
   ]
  },
  {
   "cell_type": "markdown",
   "metadata": {},
   "source": [
    "We will use AWS Glue's Join syntax to join the tables:"
   ]
  },
  {
   "cell_type": "code",
   "execution_count": 5,
   "metadata": {
    "ExecuteTime": {
     "end_time": "2020-05-07T17:28:33.572140Z",
     "start_time": "2020-05-07T17:28:22.170168Z"
    }
   },
   "outputs": [
    {
     "data": {
      "application/vnd.jupyter.widget-view+json": {
       "model_id": "",
       "version_major": 2,
       "version_minor": 0
      },
      "text/plain": [
       "FloatProgress(value=0.0, bar_style='info', description='Progress:', layout=Layout(height='25px', width='50%'),…"
      ]
     },
     "metadata": {},
     "output_type": "display_data"
    },
    {
     "name": "stdout",
     "output_type": "stream",
     "text": [
      " Rows after Join transform: 98381\n",
      "root\n",
      "|-- SITE_ID: double\n",
      "|-- SHIP_MODE: string\n",
      "|-- TAX: decimal\n",
      "|-- ORDER_DATE: date\n",
      "|-- ORDER_ID: int\n",
      "|-- LINE_NUMBER: int\n",
      "|-- SUPPLY_COST: decimal\n",
      "|-- DISCOUNT: decimal\n",
      "|-- .ORDER_ID: int\n",
      "|-- .ORDER_DATE: timestamp\n",
      "|-- LINE_ID: int\n",
      "|-- PRODUCT_ID: int\n",
      "|-- QUANTITY: int\n",
      "|-- UNIT_PRICE: decimal"
     ]
    }
   ],
   "source": [
    "datasource2=datasource0.join( [\"ORDER_ID\"],[\"ORDER_ID\"], datasource1, transformation_ctx = \"join\")\n",
    "print \" Rows after Join transform: \"+str(datasource2.count())\n",
    "datasource2.printSchema()"
   ]
  },
  {
   "cell_type": "markdown",
   "metadata": {},
   "source": [
    "Let's use Spark SQL to add some computed columns to the data - EXTENDED_PRICE and PROFIT\n",
    "\n",
    "- EXTENDED_PRICE = QUANTITY * UNIT_PRICE\n",
    "- PROFIT = QUANTITY * ( UNIT_PRICE - SUPPLY_COST )"
   ]
  },
  {
   "cell_type": "code",
   "execution_count": 6,
   "metadata": {
    "ExecuteTime": {
     "end_time": "2020-05-07T17:28:47.851036Z",
     "start_time": "2020-05-07T17:28:44.490442Z"
    }
   },
   "outputs": [
    {
     "data": {
      "application/vnd.jupyter.widget-view+json": {
       "model_id": "",
       "version_major": 2,
       "version_minor": 0
      },
      "text/plain": [
       "FloatProgress(value=0.0, bar_style='info', description='Progress:', layout=Layout(height='25px', width='50%'),…"
      ]
     },
     "metadata": {},
     "output_type": "display_data"
    },
    {
     "name": "stdout",
     "output_type": "stream",
     "text": [
      "+-------+---------+------------+----------+--------+-----------+-------------+------------+---------+-------------------+-------+----------+--------+-------------+--------------+-------+--------+\n",
      "|SITE_ID|SHIP_MODE|         TAX|ORDER_DATE|ORDER_ID|LINE_NUMBER|  SUPPLY_COST|    DISCOUNT|.ORDER_ID|        .ORDER_DATE|LINE_ID|PRODUCT_ID|QUANTITY|   UNIT_PRICE|EXTENDED_PRICE| PROFIT|DATE_KEY|\n",
      "+-------+---------+------------+----------+--------+-----------+-------------+------------+---------+-------------------+-------+----------+--------+-------------+--------------+-------+--------+\n",
      "| 1695.0|  TWO-DAY|       0E-10|2015-03-02|    7425|          1|11.0000000000|2.0000000000|     7425|2015-03-02 00:00:00|  15586|       364|     102|22.0000000000|       2244.00|1122.00|20150302|\n",
      "| 1695.0|  TWO-DAY|1.0000000000|2015-03-02|    7425|          1|20.0000000000|4.0000000000|     7425|2015-03-02 00:00:00|  28178|       908|      70|41.0000000000|       2870.00|1470.00|20150302|\n",
      "| 1695.0|  TWO-DAY|1.0000000000|2015-03-02|    7425|          1|13.0000000000|       0E-10|     7425|2015-03-02 00:00:00|  22840|       727|     133|28.0000000000|       3724.00|1995.00|20150302|\n",
      "| 1695.0|  TWO-DAY|       0E-10|2015-03-02|    7425|          1|43.0000000000|2.0000000000|     7425|2015-03-02 00:00:00|   7425|       215|      80|73.0000000000|       5840.00|2400.00|20150302|\n",
      "| 1695.0|  TWO-DAY|       0E-10|2015-03-02|    7425|          1|35.0000000000|7.0000000000|     7425|2015-03-02 00:00:00|  28475|       853|      55|77.0000000000|       4235.00|2310.00|20150302|\n",
      "+-------+---------+------------+----------+--------+-----------+-------------+------------+---------+-------------------+-------+----------+--------+-------------+--------------+-------+--------+\n",
      "only showing top 5 rows"
     ]
    }
   ],
   "source": [
    "datasource2.toDF().createOrReplaceTempView(\"tbl0\") \n",
    "df1 = spark.sql(\"Select a.*, bround(a.QUANTITY*a.UNIT_PRICE,2) as EXTENDED_PRICE, \\\n",
    "bround(QUANTITY*(UNIT_PRICE-SUPPLY_COST) ,2) as PROFIT, \\\n",
    "DATE_FORMAT(ORDER_DATE,'yyyyMMdd') as DATE_KEY \\\n",
    "from (Select * from tbl0) a\")\n",
    "df1.show(5)\n",
    "datasource4=DynamicFrame.fromDF(df1, glueContext,'datasource4')"
   ]
  },
  {
   "cell_type": "markdown",
   "metadata": {},
   "source": [
    "Let's map the columns to the target table schema:"
   ]
  },
  {
   "cell_type": "code",
   "execution_count": 7,
   "metadata": {
    "ExecuteTime": {
     "end_time": "2020-05-07T17:28:56.525709Z",
     "start_time": "2020-05-07T17:28:55.182877Z"
    }
   },
   "outputs": [
    {
     "data": {
      "application/vnd.jupyter.widget-view+json": {
       "model_id": "",
       "version_major": 2,
       "version_minor": 0
      },
      "text/plain": [
       "FloatProgress(value=0.0, bar_style='info', description='Progress:', layout=Layout(height='25px', width='50%'),…"
      ]
     },
     "metadata": {},
     "output_type": "display_data"
    },
    {
     "name": "stdout",
     "output_type": "stream",
     "text": [
      "+--------+----------+----+-----------+----------+--------+-------+-----------+----------+---------+-------+-------+--------------+--------+--------+\n",
      "|discount|unit_price| tax|supply_cost|product_id|quantity|line_id|line_number|order_date|ship_mode|site_id| profit|extended_price|date_key|order_id|\n",
      "+--------+----------+----+-----------+----------+--------+-------+-----------+----------+---------+-------+-------+--------------+--------+--------+\n",
      "|    2.00|     22.00|0.00|      11.00|       364|     102|  15586|          1|2015-03-02|  TWO-DAY|   1695|1122.00|       2244.00|20150302|    7425|\n",
      "|    4.00|     41.00|1.00|      20.00|       908|      70|  28178|          1|2015-03-02|  TWO-DAY|   1695|1470.00|       2870.00|20150302|    7425|\n",
      "|    0.00|     28.00|1.00|      13.00|       727|     133|  22840|          1|2015-03-02|  TWO-DAY|   1695|1995.00|       3724.00|20150302|    7425|\n",
      "|    2.00|     73.00|0.00|      43.00|       215|      80|   7425|          1|2015-03-02|  TWO-DAY|   1695|2400.00|       5840.00|20150302|    7425|\n",
      "|    7.00|     77.00|0.00|      35.00|       853|      55|  28475|          1|2015-03-02|  TWO-DAY|   1695|2310.00|       4235.00|20150302|    7425|\n",
      "+--------+----------+----+-----------+----------+--------+-------+-----------+----------+---------+-------+-------+--------------+--------+--------+\n",
      "only showing top 5 rows"
     ]
    }
   ],
   "source": [
    "applymapping_dynf = ApplyMapping.apply(frame = datasource4, mappings = [(\"DISCOUNT\", \"decimal(10,2)\", \"discount\", \"decimal(10,2)\"), (\"UNIT_PRICE\", \"decimal(10,2)\", \"unit_price\", \"decimal(10,2)\"), (\"TAX\", \"decimal(10,2)\", \"tax\", \"decimal(10,2)\"), (\"SUPPLY_COST\", \"decimal(10,2)\", \"supply_cost\", \"decimal(10,2)\"), (\"PRODUCT_ID\", \"int\", \"product_id\", \"int\"), (\"QUANTITY\", \"int\", \"quantity\", \"int\"), (\"LINE_ID\", \"int\", \"line_id\", \"int\"), (\"LINE_NUMBER\", \"int\", \"line_number\", \"int\"), (\"ORDER_DATE\", \"date\", \"order_date\", \"date\"), (\"SHIP_MODE\", \"string\", \"ship_mode\", \"string\"), (\"SITE_ID\", \"double\", \"site_id\", \"int\"), (\"PROFIT\", \"decimal(10,2)\", \"profit\", \"decimal(10,2)\"),(\"EXTENDED_PRICE\", \"decimal(10,2)\", \"extended_price\", \"decimal(10,2)\"),(\"DATE_KEY\", \"string\", \"date_key\", \"string\"),(\"ORDER_ID\", \"int\", \"order_id\", \"int\")], transformation_ctx = \"applymapping1\")\n",
    "applymapping_dynf.toDF().show(5)"
   ]
  },
  {
   "cell_type": "markdown",
   "metadata": {},
   "source": [
    "Finally, let's insert the records in the Amazon Redshift target table - sales_order_fact:"
   ]
  },
  {
   "cell_type": "code",
   "execution_count": 8,
   "metadata": {
    "ExecuteTime": {
     "end_time": "2020-05-07T17:29:38.091655Z",
     "start_time": "2020-05-07T17:29:00.523230Z"
    }
   },
   "outputs": [
    {
     "data": {
      "application/vnd.jupyter.widget-view+json": {
       "model_id": "",
       "version_major": 2,
       "version_minor": 0
      },
      "text/plain": [
       "FloatProgress(value=0.0, bar_style='info', description='Progress:', layout=Layout(height='25px', width='50%'),…"
      ]
     },
     "metadata": {},
     "output_type": "display_data"
    },
    {
     "name": "stdout",
     "output_type": "stream",
     "text": [
      "+--------+----------+----+-----------+----------+--------+-------+-----------+----------+---------+-------+-------+--------------+--------+--------+\n",
      "|discount|unit_price| tax|supply_cost|product_id|quantity|line_id|line_number|order_date|ship_mode|site_id| profit|extended_price|date_key|order_id|\n",
      "+--------+----------+----+-----------+----------+--------+-------+-----------+----------+---------+-------+-------+--------------+--------+--------+\n",
      "|    2.00|     22.00|0.00|      11.00|       364|     102|  15586|          1|2015-03-02|  TWO-DAY|   1695|1122.00|       2244.00|20150302|    7425|\n",
      "|    4.00|     41.00|1.00|      20.00|       908|      70|  28178|          1|2015-03-02|  TWO-DAY|   1695|1470.00|       2870.00|20150302|    7425|\n",
      "|    0.00|     28.00|1.00|      13.00|       727|     133|  22840|          1|2015-03-02|  TWO-DAY|   1695|1995.00|       3724.00|20150302|    7425|\n",
      "|    2.00|     73.00|0.00|      43.00|       215|      80|   7425|          1|2015-03-02|  TWO-DAY|   1695|2400.00|       5840.00|20150302|    7425|\n",
      "|    7.00|     77.00|0.00|      35.00|       853|      55|  28475|          1|2015-03-02|  TWO-DAY|   1695|2310.00|       4235.00|20150302|    7425|\n",
      "+--------+----------+----+-----------+----------+--------+-------+-----------+----------+---------+-------+-------+--------------+--------+--------+\n",
      "only showing top 5 rows\n",
      "\n",
      "Rows inserted into Amazon Redshift table : sales_analytics_dw_public_sales_order_fact : 98381"
     ]
    }
   ],
   "source": [
    "redshift_database_name='redshift_sales_analytics'\n",
    "redshift_table_name='sales_analytics_dw_public_sales_order_fact'\n",
    "\n",
    "datasink3 = glueContext.write_dynamic_frame.from_catalog(frame = applymapping_dynf, database = redshift_database_name, table_name = redshift_table_name, redshift_tmp_dir = args[\"TempDir\"], transformation_ctx = \"datasink3\")\n",
    "datasink3.toDF().show(5)\n",
    "print (\"Rows inserted into Amazon Redshift table : %s : %s \"%(redshift_table_name,str(datasink3.count())))\n",
    "\n",
    "job.commit()"
   ]
  },
  {
   "cell_type": "markdown",
   "metadata": {},
   "source": [
    "Let's verify the data inserted into the Amazon Redshift table:"
   ]
  },
  {
   "cell_type": "code",
   "execution_count": 9,
   "metadata": {
    "ExecuteTime": {
     "end_time": "2020-05-07T17:29:45.116494Z",
     "start_time": "2020-05-07T17:29:42.594899Z"
    }
   },
   "outputs": [
    {
     "data": {
      "text/plain": [
       "[(29100,)]"
      ]
     },
     "execution_count": 9,
     "metadata": {},
     "output_type": "execute_result"
    }
   ],
   "source": [
    "%local \n",
    "import redshift_utils\n",
    "\n",
    "redshift_utils.execute_redshift_query(\"Select count(distinct (order_id)) from sales_order_fact\")"
   ]
  },
  {
   "cell_type": "markdown",
   "metadata": {
    "ExecuteTime": {
     "end_time": "2020-05-06T23:40:28.710990Z",
     "start_time": "2020-05-06T23:40:28.543206Z"
    }
   },
   "source": [
    "## Execute Incremental Load Pipeline\n",
    "\n",
    "### Push Incremental data\n",
    "\n",
    "<div class=\"alert alert-block alert-info\"><b>Note:</b> Let's run the \"generate_orders(100)\" cell from the 1st notebook in this module to push some Inserts through.</div>\n",
    "\n",
    "**Step 3** : Run the \"generate_orders(100)\" cell in Notebook 1.\n",
    "\n",
    "AWS DMS should replicate the new inserts to our Amazon S3 bucket in a minute. Let's run the AWS Glue Job **incr_load_SALES_ORDER_FACT** from the AWS Glue Console.\n",
    "\n",
    "We can run an AWS CLI command to verify that the incremental files has been dropped by AWS DMS to our Amazon S3 bucket:\n",
    "\n"
   ]
  },
  {
   "cell_type": "code",
   "execution_count": 10,
   "metadata": {
    "ExecuteTime": {
     "end_time": "2020-05-07T17:40:51.028567Z",
     "start_time": "2020-05-07T17:40:49.448627Z"
    }
   },
   "outputs": [
    {
     "name": "stdout",
     "output_type": "stream",
     "text": [
      "2020-05-07 17:38:16       4347 20200507-173815166.parquet\n",
      "2020-05-07 17:39:22       4674 20200507-173921297.parquet\n",
      "2020-05-07 17:15:41     912177 LOAD00000001.parquet\n"
     ]
    }
   ],
   "source": [
    "%%sh\n",
    "aws s3 ls s3://###s3_bucket###/dms-full-load-path/salesdb/SALES_ORDER/"
   ]
  },
  {
   "cell_type": "markdown",
   "metadata": {},
   "source": [
    "### Crawl the DMS Incremental Output Data\n",
    "\n",
    "Let's define and run crawlers to define AWS Glue tables over the incremental data. Note that:\n",
    "\n",
    "- We have an Exclude Pattern (LOAD*) to exclude the AWS DMS Full load file. \n",
    "- We add a Prefix (INCR_) added to the incremental tables so that we can clearly identify them.\n",
    "\n",
    "<div class=\"alert alert-block alert-warning\"><b>Note:</b> Make sure you do not miss the Exclude Pattern (LOAD*) and the Prefix (INCR_) added to tables in the Crawler definition.</div>\n",
    "\n",
    "**Step 4**: The first crawler should create a table for the changes to the SALES_ORDER table:\n",
    "\n",
    "- Navigate to the AWS Glue console at Services -> AWS Glue\n",
    "- From the left-hand panel menu, navigate to Data Catalog -> Crawlers.\n",
    "- Click on the button ‘Add Crawler’ to create a new AWS Glue Crawler.\n",
    "- Fields to fill in:\n",
    "    - Page: Add information about your crawler\n",
    "        - Crawler name: **incr_sales_order_crawler**\n",
    "    - Page: Add a data store\n",
    "        - Choose a data store: S3\n",
    "        - Include path: **s3://###s3_bucket###/dms-full-load-path/salesdb/SALES_ORDER/**\n",
    "        - Exclude Pattern : **LOAD\\***\n",
    "    - Page: Choose an IAM role\n",
    "       - IAM Role: Choose the **glue-labs\\*GlueServiceRole**\n",
    "    - Page: Configure the crawler's output\n",
    "        - Database:  Click on ‘Add database’ and enter database name as **mysql_dms_salesdb**\n",
    "        - Prefix added to tables (optional): **INCR_**\n",
    "- Click on the button ‘Finish’ to create the crawler.\n",
    "- Select the new Crawler and click on Run crawler to run the Crawler.\n",
    "\n",
    "**Step 5**: And the second crawler should create a table for the changes to the SALES_ORDER_DETAIL table:\n",
    "\n",
    "- Navigate to the AWS Glue console at Services -> AWS Glue\n",
    "- From the left-hand panel menu, navigate to Data Catalog -> Crawlers.\n",
    "- Click on the button ‘Add Crawler’ to create a new AWS Glue Crawler.\n",
    "- Fields to fill in:\n",
    "    - Page: Add information about your crawler\n",
    "        - Crawler name: **incr_sales_order_detail_crawler**\n",
    "    - Page: Add a data store\n",
    "        - Choose a data store: S3\n",
    "        - Include path: **s3://###s3_bucket###/dms-full-load-path/salesdb/SALES_ORDER_DETAIL/**\n",
    "        - Exclude Pattern : **LOAD\\***\n",
    "    - Page: Choose an IAM role\n",
    "       - IAM Role: Choose the **glue-labs\\*GlueServiceRole**\n",
    "    - Page: Configure the crawler's output\n",
    "        - Database:  Select the database **mysql_dms_salesdb**\n",
    "        - Prefix added to tables (optional): **INCR_**\n",
    "- Click on the button ‘Finish’ to create the crawler.\n",
    "- Select the new Crawler and click on Run crawler to run the Crawler.\n",
    "\n",
    "### Deploy and execute the Incremental Job with AWS Glue Bookmarking enabled\n",
    "\n",
    "Let's now deploy the AWS Glue Job for the incremental load using the AWS SDK below. The following are noteworthy in our AWS Glue Job definition:\n",
    "\n",
    "- The following line enables the AWS Glue Bookmarking feature for the AWS Glue job:\n",
    "\n",
    "```\n",
    "'--job-bookmark-option': 'job-bookmark-enable'\n",
    "```\n",
    "\n",
    " - The following line ensures that AWS Glue creates private ENIs (Elastic Network Interfaces) within the VPC to connect to our Amazon Redshift Database instance:\n",
    "\n",
    "```\n",
    "Connections={'Connections': [redshift_database_connection]},\n",
    "```\n",
    "\n",
    "- The following line allocates the capacity allocated for this AWS Glue Job. We have allocated 3 DPUs. (1 DPU = 4 vCPUs and 16 GB of memory with a 50 GB disk and 2 executors)\n",
    "\n",
    "```\n",
    "MaxCapacity=3.0\n",
    "```\n",
    "\n",
    "\n",
    "You can read more about AWS Glue Job properties and Capacity options here: https://docs.aws.amazon.com/en_us/glue/latest/dg/add-job.html"
   ]
  },
  {
   "cell_type": "code",
   "execution_count": 11,
   "metadata": {
    "ExecuteTime": {
     "end_time": "2020-05-07T17:41:56.661446Z",
     "start_time": "2020-05-07T17:41:55.859518Z"
    }
   },
   "outputs": [
    {
     "name": "stdout",
     "output_type": "stream",
     "text": [
      "{'Name': 'incr_load_SALES_ORDER_FACT', 'ResponseMetadata': {'RequestId': '3f43f5f3-a4a0-4082-ae6a-da97565ec3ca', 'HTTPStatusCode': 200, 'HTTPHeaders': {'date': 'Thu, 07 May 2020 17:41:56 GMT', 'content-type': 'application/x-amz-json-1.1', 'content-length': '37', 'connection': 'keep-alive', 'x-amzn-requestid': '3f43f5f3-a4a0-4082-ae6a-da97565ec3ca'}, 'RetryAttempts': 0}}\n"
     ]
    }
   ],
   "source": [
    "%local\n",
    "\n",
    "import boto3\n",
    "\n",
    "acct_number=boto3.client('sts').get_caller_identity().get('Account')\n",
    "bucket='###s3_bucket###'\n",
    "redshift_database_connection='redshiftdb'\n",
    "\n",
    "# Create the AWS Glue Spark Jobs\n",
    "glue = boto3.client(\"glue\")\n",
    "\n",
    "for job_name in ['incr_load_SALES_ORDER_FACT']:\n",
    "    response=glue.create_job(Name=job_name,\n",
    "                         Role=\"arn:aws:iam::%s:role/###iam_role###\"%acct_number,\n",
    "                         ExecutionProperty={'MaxConcurrentRuns': 1},\n",
    "                         Command={'Name': 'glueetl',\n",
    "                                  'ScriptLocation': 's3://%s/scripts/%s.py'%(bucket,job_name),\n",
    "                                  'PythonVersion': '3'},\n",
    "                         DefaultArguments={'--TempDir': 's3://%s/temp'%bucket,\n",
    "                                           '--enable-continuous-cloudwatch-log': 'true',\n",
    "                                           '--enable-glue-datacatalog': '',\n",
    "                                           '--enable-metrics': '',\n",
    "                                           '--enable-spark-ui': 'true',\n",
    "                                           '--spark-event-logs-path': 's3://%s/spark_glue_etl_logs/%s'%(bucket,job_name),\n",
    "                                           '--job-bookmark-option': 'job-bookmark-enable',\n",
    "                                           '--job-language': 'python',\n",
    "                                           '--S3_BUCKET': bucket },\n",
    "                         Connections={'Connections': [redshift_database_connection]},\n",
    "                         MaxRetries=0,\n",
    "                         Timeout=2880,\n",
    "                         MaxCapacity=3.0,\n",
    "                         GlueVersion='1.0',\n",
    "                         Tags={'Owner': 'Glue_Labs'}\n",
    "                        )\n",
    "    print (response)"
   ]
  },
  {
   "cell_type": "markdown",
   "metadata": {},
   "source": [
    "**Step 6**: To run the AWS Glue Job:\n",
    "\n",
    "- Navigate to the AWS Glue console at Services -> AWS Glue\n",
    "- From the left-hand panel menu, navigate to ETL -> Jobs\n",
    "- Select the job 'incr_load_SALES_ORDER_FACT'\n",
    "- And click on the button 'Action -> Run job'\n",
    "- Accept all Default arguments and click on the 'Run job' button.\n",
    "\n",
    "When the job is running, we can inspect the logs and monitor the run from the AWS Glue console as well.\n"
   ]
  },
  {
   "cell_type": "code",
   "execution_count": 12,
   "metadata": {
    "ExecuteTime": {
     "end_time": "2020-05-07T18:27:22.678688Z",
     "start_time": "2020-05-07T18:27:22.619227Z"
    }
   },
   "outputs": [
    {
     "data": {
      "text/plain": [
       "[(29289,)]"
      ]
     },
     "execution_count": 12,
     "metadata": {},
     "output_type": "execute_result"
    }
   ],
   "source": [
    "%local \n",
    "redshift_utils.execute_redshift_query(\"Select count(distinct order_id) from sales_order_fact\")"
   ]
  },
  {
   "cell_type": "markdown",
   "metadata": {},
   "source": [
    "**Step 7** : Finally, let us repeat the steps for some more incremental data:\n",
    "\n",
    "- Insert 100 more orders\n",
    "\n",
    "<div class=\"alert alert-block alert-info\"><b>Note:</b> Let's run the \"generate_orders(100)\" cell from the 1st notebook in this module to push some Inserts through.</div>\n",
    "\n",
    "- Rerun the AWS Glue Job - incr_load_SALES_ORDER_FACT\n",
    "- Validate the record count in the Amazon Redshift table in the cell below.\n"
   ]
  },
  {
   "cell_type": "code",
   "execution_count": 13,
   "metadata": {
    "ExecuteTime": {
     "end_time": "2020-05-07T18:28:13.217998Z",
     "start_time": "2020-05-07T18:28:13.195875Z"
    }
   },
   "outputs": [
    {
     "data": {
      "text/plain": [
       "[(29289,)]"
      ]
     },
     "execution_count": 13,
     "metadata": {},
     "output_type": "execute_result"
    }
   ],
   "source": [
    "%local \n",
    "redshift_utils.execute_redshift_query(\"Select count(distinct order_id) from sales_order_fact\")"
   ]
  },
  {
   "cell_type": "markdown",
   "metadata": {},
   "source": [
    "\n",
    "We can see that each run correctly identifies the incremental data and pushes it to the Amazon Redshift table. AWS Glue Bookmarking maintains the state of which file has been processed by each run and ensures that subsequent runs only picks up newer files.\n",
    "\n",
    "You can read more on how AWS Glue Bookmarking works here: https://docs.aws.amazon.com/glue/latest/dg/monitor-continuations.html"
   ]
  },
  {
   "cell_type": "markdown",
   "metadata": {},
   "source": [
    "## Wrap-up\n",
    "\n",
    "In this notebook, we ran exercises to: \n",
    "\n",
    "1. Load a table to an Amazon Redshift datawarehouse.\n",
    "2. Add computed columns to a dataframe using Spark SQL.\n",
    "3. Read incremental data from Amazon S3 as AWS Glue Tables using AWS Glue Crawlers and Exclusion Patterns.\n",
    "4. Finally, Push the incremental data to a Amazon Redshift table using the AWS Glue Bookmarking feature."
   ]
  },
  {
   "cell_type": "code",
   "execution_count": null,
   "metadata": {},
   "outputs": [],
   "source": []
  }
 ],
 "metadata": {
  "kernelspec": {
   "display_name": "Sparkmagic (PySpark)",
   "language": "",
   "name": "pysparkkernel"
  },
  "language_info": {
   "codemirror_mode": {
    "name": "python",
    "version": 3
   },
   "mimetype": "text/x-python",
   "name": "pyspark",
   "pygments_lexer": "python3"
  }
 },
 "nbformat": 4,
 "nbformat_minor": 4
}
