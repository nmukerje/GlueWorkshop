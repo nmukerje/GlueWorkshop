{
 "cells": [
  {
   "cell_type": "markdown",
   "metadata": {},
   "source": [
    "# Building a Data Lake using AWS Glue\n",
    "\n",
    "1. [Introduction](#Introduction)\n",
    "2. [Activity 1 : CSV to Parquet conversion](#Activity-1-:-CSV-to-Parquet-conversion)\n",
    "3. [Activity 2 : Building a Star Schema in your Datalake](#Activity-2-:-Building-a-Star-Schema-in-your-Datalake)\n",
    "3. [Activity 3 : Building an AWS Glue Workflow](#Activity-3-:-Building-an-AWS-Glue-Workflow)\n",
    "4. [Wrap-up](#Wrap-up)"
   ]
  },
  {
   "cell_type": "markdown",
   "metadata": {},
   "source": [
    "## Introduction\n",
    "\n",
    "In this notebook, we will use AWS Glue to perform 2 activities:\n",
    "    \n",
    "- Convert a CSV Dataset to Parquet partitioned out by key fields.\n",
    "- Build a Star (Denormalized) Schema from an OLTP 3NF (3rd Normal Form) Schema.\n",
    "- Finally, deploy the piplline to create an AWS Glue Workflow.\n",
    "\n",
    "Let's start by connecting to our our AWS Glue Dev Endpoint - a persistent AWS Glue Spark  Development environment."
   ]
  },
  {
   "cell_type": "code",
   "execution_count": 1,
   "metadata": {
    "ExecuteTime": {
     "end_time": "2020-05-07T19:02:52.426526Z",
     "start_time": "2020-05-07T19:02:25.800832Z"
    }
   },
   "outputs": [
    {
     "name": "stdout",
     "output_type": "stream",
     "text": [
      "Starting Spark application\n"
     ]
    },
    {
     "data": {
      "text/html": [
       "<table>\n",
       "<tr><th>ID</th><th>YARN Application ID</th><th>Kind</th><th>State</th><th>Spark UI</th><th>Driver log</th><th>Current session?</th></tr><tr><td>1</td><td>application_1588867810053_0002</td><td>pyspark</td><td>idle</td><td><a target=\"_blank\" href=\"http://ip-10-0-5-172.us-west-2.compute.internal:20888/proxy/application_1588867810053_0002/\">Link</a></td><td><a target=\"_blank\" href=\"http://ip-10-0-2-91.us-west-2.compute.internal:8042/node/containerlogs/container_1588867810053_0002_01_000001/livy\">Link</a></td><td>✔</td></tr></table>"
      ],
      "text/plain": [
       "<IPython.core.display.HTML object>"
      ]
     },
     "metadata": {},
     "output_type": "display_data"
    },
    {
     "data": {
      "application/vnd.jupyter.widget-view+json": {
       "model_id": "",
       "version_major": 2,
       "version_minor": 0
      },
      "text/plain": [
       "FloatProgress(value=0.0, bar_style='info', description='Progress:', layout=Layout(height='25px', width='50%'),…"
      ]
     },
     "metadata": {},
     "output_type": "display_data"
    },
    {
     "name": "stdout",
     "output_type": "stream",
     "text": [
      "SparkSession available as 'spark'.\n"
     ]
    },
    {
     "data": {
      "application/vnd.jupyter.widget-view+json": {
       "model_id": "",
       "version_major": 2,
       "version_minor": 0
      },
      "text/plain": [
       "FloatProgress(value=0.0, bar_style='info', description='Progress:', layout=Layout(height='25px', width='50%'),…"
      ]
     },
     "metadata": {},
     "output_type": "display_data"
    },
    {
     "name": "stdout",
     "output_type": "stream",
     "text": [
      "u'2.4.3'"
     ]
    }
   ],
   "source": [
    "spark.version"
   ]
  },
  {
   "cell_type": "code",
   "execution_count": 3,
   "metadata": {
    "ExecuteTime": {
     "end_time": "2020-05-07T19:03:20.832944Z",
     "start_time": "2020-05-07T19:03:20.555476Z"
    }
   },
   "outputs": [
    {
     "data": {
      "application/vnd.jupyter.widget-view+json": {
       "model_id": "",
       "version_major": 2,
       "version_minor": 0
      },
      "text/plain": [
       "FloatProgress(value=0.0, bar_style='info', description='Progress:', layout=Layout(height='25px', width='50%'),…"
      ]
     },
     "metadata": {},
     "output_type": "display_data"
    },
    {
     "name": "stdout",
     "output_type": "stream",
     "text": [
      "+------------+\n",
      "|databaseName|\n",
      "+------------+\n",
      "|     default|\n",
      "+------------+"
     ]
    }
   ],
   "source": [
    "spark.sql(\"show databases\").show()"
   ]
  },
  {
   "cell_type": "code",
   "execution_count": 5,
   "metadata": {
    "ExecuteTime": {
     "end_time": "2020-05-07T19:03:43.284708Z",
     "start_time": "2020-05-07T19:03:42.960384Z"
    }
   },
   "outputs": [
    {
     "data": {
      "application/vnd.jupyter.widget-view+json": {
       "model_id": "",
       "version_major": 2,
       "version_minor": 0
      },
      "text/plain": [
       "FloatProgress(value=0.0, bar_style='info', description='Progress:', layout=Layout(height='25px', width='50%'),…"
      ]
     },
     "metadata": {},
     "output_type": "display_data"
    },
    {
     "name": "stdout",
     "output_type": "stream",
     "text": [
      "+--------+---------+-----------+\n",
      "|database|tableName|isTemporary|\n",
      "+--------+---------+-----------+\n",
      "+--------+---------+-----------+"
     ]
    }
   ],
   "source": [
    "spark.sql(\"show tables\").show()"
   ]
  },
  {
   "cell_type": "markdown",
   "metadata": {},
   "source": [
    "## Activity 1 : CSV to Parquet conversion\n",
    "\n",
    "\n",
    "The 1st dataset we will be using is the NYC Taxi Trips CSV dataset with 1.2B records. We will partition the data in the analytics tier by vendor name, year and month, catalog this data in the AWS Glue Data Catalog. This dataset has 5 vendors and 8 years of data."
   ]
  },
  {
   "cell_type": "markdown",
   "metadata": {},
   "source": [
    "### Crawl the Source Data\n",
    "\n",
    "The 1st step is to run the AWS Glue Crawler on the raw dataset to create the table in the AWS Glue Catalog.\n",
    "\n",
    "Create and Execute a AWS Glue Crawler on the source data in S3\n",
    "\n",
    "- Navigate to the AWS Glue console at Services -> AWS Glue\n",
    "- From the left-hand panel menu, navigate to Data Catalog -> Crawlers.\n",
    "- Click on the button ‘Add Crawler’ to create a new AWS Glue Crawler.\n",
    "- Fields to fill in:\n",
    "    - Page: Add information about your crawler\n",
    "        - Crawler name: **nyc_trips_csv_crawler**\n",
    "    - Page: Add a data store\n",
    "        - Choose a data store: S3\n",
    "        - Include path: **s3://###s3_bucket###/data/nyc_trips_csv/**\n",
    "    - Page: Choose an IAM role\n",
    "       - IAM Role: Choose an existing IAM role **glue-labs\\*GlueServiceRole**\n",
    "    - Page: Configure the crawler's output\n",
    "        - Database: Click on ‘Add database’ and enter database name as **nyc_trips**.\n",
    "- Click on the button ‘Finish’ to create the crawler.\n",
    "- Select the new Crawler and click on 'Run crawler' to run the Crawler.\n",
    "\n",
    "Once the data is crawled, which should take about a minute, we can view the database and tables in the AWS Glue Catalog and query the tables as well:\n",
    "\n",
    "### Transform the data to Parquet\n",
    "\n",
    "Note that Spark SQL works great in the AWS Glue environment. Let's query the table created:"
   ]
  },
  {
   "cell_type": "code",
   "execution_count": 6,
   "metadata": {
    "ExecuteTime": {
     "end_time": "2020-05-07T19:06:10.776537Z",
     "start_time": "2020-05-07T19:06:10.408934Z"
    }
   },
   "outputs": [
    {
     "data": {
      "application/vnd.jupyter.widget-view+json": {
       "model_id": "",
       "version_major": 2,
       "version_minor": 0
      },
      "text/plain": [
       "FloatProgress(value=0.0, bar_style='info', description='Progress:', layout=Layout(height='25px', width='50%'),…"
      ]
     },
     "metadata": {},
     "output_type": "display_data"
    },
    {
     "name": "stdout",
     "output_type": "stream",
     "text": [
      "++\n",
      "||\n",
      "++\n",
      "++"
     ]
    }
   ],
   "source": [
    "spark.sql(\"use nyc_trips\").show()"
   ]
  },
  {
   "cell_type": "code",
   "execution_count": 7,
   "metadata": {
    "ExecuteTime": {
     "end_time": "2020-05-07T19:06:13.712359Z",
     "start_time": "2020-05-07T19:06:13.393144Z"
    }
   },
   "outputs": [
    {
     "data": {
      "application/vnd.jupyter.widget-view+json": {
       "model_id": "",
       "version_major": 2,
       "version_minor": 0
      },
      "text/plain": [
       "FloatProgress(value=0.0, bar_style='info', description='Progress:', layout=Layout(height='25px', width='50%'),…"
      ]
     },
     "metadata": {},
     "output_type": "display_data"
    },
    {
     "name": "stdout",
     "output_type": "stream",
     "text": [
      "+---------+-------------+-----------+\n",
      "| database|    tableName|isTemporary|\n",
      "+---------+-------------+-----------+\n",
      "|nyc_trips|nyc_trips_csv|      false|\n",
      "+---------+-------------+-----------+"
     ]
    }
   ],
   "source": [
    "spark.sql(\"show tables\").show()"
   ]
  },
  {
   "cell_type": "code",
   "execution_count": 8,
   "metadata": {
    "ExecuteTime": {
     "end_time": "2020-05-07T19:06:17.023974Z",
     "start_time": "2020-05-07T19:06:16.193338Z"
    }
   },
   "outputs": [
    {
     "data": {
      "application/vnd.jupyter.widget-view+json": {
       "model_id": "",
       "version_major": 2,
       "version_minor": 0
      },
      "text/plain": [
       "FloatProgress(value=0.0, bar_style='info', description='Progress:', layout=Layout(height='25px', width='50%'),…"
      ]
     },
     "metadata": {},
     "output_type": "display_data"
    },
    {
     "name": "stdout",
     "output_type": "stream",
     "text": [
      "root\n",
      " |-- vendor_name: string (nullable = true)\n",
      " |-- trip_pickup_datetime: string (nullable = true)\n",
      " |-- trip_dropoff_datetime: string (nullable = true)\n",
      " |-- passenger_count: long (nullable = true)\n",
      " |-- trip_distance: double (nullable = true)\n",
      " |-- payment_type: string (nullable = true)\n",
      " |-- are_amt: double (nullable = true)\n",
      " |-- surcharge: double (nullable = true)\n",
      " |-- mta_tax: double (nullable = true)\n",
      " |-- tip_amt: double (nullable = true)\n",
      " |-- tolls_amt: double (nullable = true)\n",
      " |-- total_amt: double (nullable = true)\n",
      " |-- year: long (nullable = true)\n",
      " |-- month: long (nullable = true)"
     ]
    }
   ],
   "source": [
    "df = spark.sql(\"select * from nyc_trips.nyc_trips_csv\")\n",
    "df.printSchema()"
   ]
  },
  {
   "cell_type": "markdown",
   "metadata": {},
   "source": [
    "Let's now write an AWS Glue Spark job to convert this csv data into a columnar(parquet) format."
   ]
  },
  {
   "cell_type": "code",
   "execution_count": 9,
   "metadata": {
    "ExecuteTime": {
     "end_time": "2020-05-07T19:07:29.690166Z",
     "start_time": "2020-05-07T19:07:29.532887Z"
    }
   },
   "outputs": [
    {
     "data": {
      "application/vnd.jupyter.widget-view+json": {
       "model_id": "",
       "version_major": 2,
       "version_minor": 0
      },
      "text/plain": [
       "FloatProgress(value=0.0, bar_style='info', description='Progress:', layout=Layout(height='25px', width='50%'),…"
      ]
     },
     "metadata": {},
     "output_type": "display_data"
    }
   ],
   "source": [
    "## We will simulate the Glue job arguments \n",
    "import sys\n",
    "sys.argv = [\"CSV2Parquet\",\"--JOB_NAME\", \"CSV2Parquet\"]"
   ]
  },
  {
   "cell_type": "markdown",
   "metadata": {},
   "source": [
    "Let's start the code for the AWS Glue Job:"
   ]
  },
  {
   "cell_type": "code",
   "execution_count": 10,
   "metadata": {
    "ExecuteTime": {
     "end_time": "2020-05-07T19:07:32.987048Z",
     "start_time": "2020-05-07T19:07:32.157923Z"
    }
   },
   "outputs": [
    {
     "data": {
      "application/vnd.jupyter.widget-view+json": {
       "model_id": "",
       "version_major": 2,
       "version_minor": 0
      },
      "text/plain": [
       "FloatProgress(value=0.0, bar_style='info', description='Progress:', layout=Layout(height='25px', width='50%'),…"
      ]
     },
     "metadata": {},
     "output_type": "display_data"
    },
    {
     "name": "stdout",
     "output_type": "stream",
     "text": [
      "CSV2Parquet START..."
     ]
    }
   ],
   "source": [
    "## Glue boilerplate code\n",
    "\n",
    "import sys\n",
    "from awsglue.transforms import *\n",
    "from awsglue.utils import getResolvedOptions\n",
    "from pyspark.context import SparkContext\n",
    "from awsglue.context import GlueContext\n",
    "from awsglue.job import Job\n",
    "import boto3, json\n",
    "\n",
    "args = getResolvedOptions(sys.argv, ['JOB_NAME'])\n",
    "print (args['JOB_NAME']+\" START...\")\n",
    "if 'sc' not in vars(): sc = SparkContext()\n",
    "glueContext = GlueContext(SparkContext.getOrCreate())\n",
    "spark = glueContext.spark_session\n",
    "job = Job(glueContext)\n",
    "job.init(args['JOB_NAME'], args)\n",
    "\n",
    "## Glue boilerplate code"
   ]
  },
  {
   "cell_type": "code",
   "execution_count": 11,
   "metadata": {
    "ExecuteTime": {
     "end_time": "2020-05-07T19:07:37.646194Z",
     "start_time": "2020-05-07T19:07:37.533877Z"
    }
   },
   "outputs": [
    {
     "data": {
      "application/vnd.jupyter.widget-view+json": {
       "model_id": "",
       "version_major": 2,
       "version_minor": 0
      },
      "text/plain": [
       "FloatProgress(value=0.0, bar_style='info', description='Progress:', layout=Layout(height='25px', width='50%'),…"
      ]
     },
     "metadata": {},
     "output_type": "display_data"
    }
   ],
   "source": [
    "db_name='nyc_trips'\n",
    "tbl_name='nyc_trips_csv'\n",
    "output_dir='s3://###s3_bucket###/data/nyc_trips_parquet/'"
   ]
  },
  {
   "cell_type": "markdown",
   "metadata": {},
   "source": [
    "We can easily instantiate an AWS Glue DynamicFrame from the AWS Glue Catalog table:"
   ]
  },
  {
   "cell_type": "code",
   "execution_count": 12,
   "metadata": {
    "ExecuteTime": {
     "end_time": "2020-05-07T19:10:21.610124Z",
     "start_time": "2020-05-07T19:09:32.053376Z"
    }
   },
   "outputs": [
    {
     "data": {
      "application/vnd.jupyter.widget-view+json": {
       "model_id": "",
       "version_major": 2,
       "version_minor": 0
      },
      "text/plain": [
       "FloatProgress(value=0.0, bar_style='info', description='Progress:', layout=Layout(height='25px', width='50%'),…"
      ]
     },
     "metadata": {},
     "output_type": "display_data"
    },
    {
     "name": "stdout",
     "output_type": "stream",
     "text": [
      "root\n",
      "|-- vendor_name: string\n",
      "|-- trip_pickup_datetime: string\n",
      "|-- trip_dropoff_datetime: string\n",
      "|-- passenger_count: long\n",
      "|-- trip_distance: double\n",
      "|-- payment_type: string\n",
      "|-- are_amt: double\n",
      "|-- surcharge: double\n",
      "|-- mta_tax: double\n",
      "|-- tip_amt: double\n",
      "|-- tolls_amt: double\n",
      "|-- total_amt: double\n",
      "|-- year: long\n",
      "|-- month: long"
     ]
    }
   ],
   "source": [
    "# Read the input data\n",
    "dyf = glueContext.create_dynamic_frame.from_catalog(database = db_name, table_name = tbl_name)\n",
    "dyf.printSchema()"
   ]
  },
  {
   "cell_type": "markdown",
   "metadata": {},
   "source": [
    "As we are not doing any transformations here, we can write out the data out to our Amazon S3 bucket in Parquet right way:"
   ]
  },
  {
   "cell_type": "code",
   "execution_count": 13,
   "metadata": {
    "ExecuteTime": {
     "end_time": "2020-05-07T19:11:34.928480Z",
     "start_time": "2020-05-07T19:10:51.409711Z"
    }
   },
   "outputs": [
    {
     "data": {
      "application/vnd.jupyter.widget-view+json": {
       "model_id": "",
       "version_major": 2,
       "version_minor": 0
      },
      "text/plain": [
       "FloatProgress(value=0.0, bar_style='info', description='Progress:', layout=Layout(height='25px', width='50%'),…"
      ]
     },
     "metadata": {},
     "output_type": "display_data"
    },
    {
     "name": "stdout",
     "output_type": "stream",
     "text": [
      "<awsglue.dynamicframe.DynamicFrame object at 0x7f727f8abad0>"
     ]
    }
   ],
   "source": [
    "# Write the data out in Parquet\n",
    "glueContext.write_dynamic_frame.from_options(frame = dyf, connection_type = \"s3\", connection_options = {\"path\": output_dir, \"partitionKeys\": ['vendor_name', 'year', 'month']}, format = \"parquet\")"
   ]
  },
  {
   "cell_type": "code",
   "execution_count": 14,
   "metadata": {
    "ExecuteTime": {
     "end_time": "2020-05-07T19:11:37.614433Z",
     "start_time": "2020-05-07T19:11:37.498182Z"
    }
   },
   "outputs": [
    {
     "data": {
      "application/vnd.jupyter.widget-view+json": {
       "model_id": "",
       "version_major": 2,
       "version_minor": 0
      },
      "text/plain": [
       "FloatProgress(value=0.0, bar_style='info', description='Progress:', layout=Layout(height='25px', width='50%'),…"
      ]
     },
     "metadata": {},
     "output_type": "display_data"
    },
    {
     "name": "stdout",
     "output_type": "stream",
     "text": [
      "CSV2Parquet END..."
     ]
    }
   ],
   "source": [
    "## Glue boilerplate code\n",
    "\n",
    "job.commit()\n",
    "print (args['JOB_NAME']+\" END...\")\n",
    "\n",
    "## Glue boilerplate code"
   ]
  },
  {
   "cell_type": "markdown",
   "metadata": {},
   "source": [
    "### Crawl the Transformed Data\n",
    "\n",
    "Now that the output data is in Amazon S3, let's crawl this dataset in AWS Glue and query this data using Amazon Athena.\n",
    "\n",
    "- Navigate to the AWS Glue console at Services -> AWS Glue\n",
    "- From the left-hand panel menu, navigate to Data Catalog -> Crawlers.\n",
    "- Click on the button ‘Add Crawler’ to create a new AWS Glue Crawler.\n",
    "- Fields to fill in:\n",
    "    - Page: Add information about your crawler\n",
    "        - Crawler name: **nyc_trips_parquet_crawler**\n",
    "    - Page: Add a data store\n",
    "        - Choose a data store: S3\n",
    "        - Include path: **s3://###s3_bucket###/data/nyc_trips_parquet/**\n",
    "    - Page: Choose an IAM role\n",
    "       - IAM Role: Choose an existing IAM role **glue-labs\\*GlueServiceRole**\n",
    "    - Page: Configure the crawler's output\n",
    "        - Database: Select database as **nyc_trips**\n",
    "- Click on the button ‘Finish’ to create the crawler.\n",
    "- Select the new Crawler and click on Run crawler to run the Crawler.\n",
    "\n",
    "Once the Crawler run has completed, navigate to the Amazon Athena console, Services -> Athena to run Amazon Athena queries on this dataset.\n",
    "\n",
    "Note: You may need to output location for Amazon Athena by clicking on Settings -> Query result location in the Amazon Athena console and setting the value to : \n",
    "\n",
    "**s3://###s3_bucket###/athena-query-results/**\n",
    "\n",
    "We can also query the data using Spark SQL:\n"
   ]
  },
  {
   "cell_type": "code",
   "execution_count": 15,
   "metadata": {
    "ExecuteTime": {
     "end_time": "2020-05-07T19:14:23.926349Z",
     "start_time": "2020-05-07T19:14:23.056284Z"
    }
   },
   "outputs": [
    {
     "data": {
      "application/vnd.jupyter.widget-view+json": {
       "model_id": "",
       "version_major": 2,
       "version_minor": 0
      },
      "text/plain": [
       "FloatProgress(value=0.0, bar_style='info', description='Progress:', layout=Layout(height='25px', width='50%'),…"
      ]
     },
     "metadata": {},
     "output_type": "display_data"
    },
    {
     "name": "stdout",
     "output_type": "stream",
     "text": [
      "+---------+-----------------+-----------+\n",
      "| database|        tableName|isTemporary|\n",
      "+---------+-----------------+-----------+\n",
      "|nyc_trips|    nyc_trips_csv|      false|\n",
      "|nyc_trips|nyc_trips_parquet|      false|\n",
      "+---------+-----------------+-----------+"
     ]
    }
   ],
   "source": [
    "spark.sql(\"show tables\").show()"
   ]
  },
  {
   "cell_type": "code",
   "execution_count": 16,
   "metadata": {
    "ExecuteTime": {
     "end_time": "2020-05-07T19:14:45.846133Z",
     "start_time": "2020-05-07T19:14:26.442771Z"
    }
   },
   "outputs": [
    {
     "data": {
      "application/vnd.jupyter.widget-view+json": {
       "model_id": "",
       "version_major": 2,
       "version_minor": 0
      },
      "text/plain": [
       "FloatProgress(value=0.0, bar_style='info', description='Progress:', layout=Layout(height='25px', width='50%'),…"
      ]
     },
     "metadata": {},
     "output_type": "display_data"
    },
    {
     "name": "stdout",
     "output_type": "stream",
     "text": [
      "+--------+\n",
      "|count(1)|\n",
      "+--------+\n",
      "|25955596|\n",
      "+--------+"
     ]
    }
   ],
   "source": [
    "spark.sql(\"select count(*) from nyc_trips_parquet\").show()"
   ]
  },
  {
   "cell_type": "markdown",
   "metadata": {},
   "source": [
    "## Activity 2 : Building a Star Schema in your Datalake\n",
    "\n",
    "In this activity, we will denormalize an OLTP 3NF schema to Parquet. This activity demonstrates the using AWS Glue operations to perform powerful data transformations on input data:\n",
    "\n",
    "![alt text](../resources/denormalize.png \"Building a Star Schema\")"
   ]
  },
  {
   "cell_type": "markdown",
   "metadata": {},
   "source": [
    "### Crawl the Source Data\n",
    "\n",
    "The 1st step is to run the AWS Crawler on the raw dataset to create the tables in the AWS Glue Catalog.\n",
    "\n",
    "- Navigate to the AWS Glue console at Services -> AWS Glue\n",
    "- From the left-hand panel menu, navigate to Data Catalog -> Crawlers.\n",
    "- Click on the button ‘Add Crawler’ to create a new AWS Glue Crawler.\n",
    "- Fields to fill in:\n",
    "    - Page: Add information about your crawler\n",
    "        - Crawler name: **salesdb_crawler**\n",
    "    - Page: Add a data store\n",
    "        - Choose a data store: S3\n",
    "        - Include path: **s3://###s3_bucket###/data/salesdb/**\n",
    "    - Page: Choose an IAM role\n",
    "       - IAM Role: Choose an existing IAM role **glue-labs\\*GlueServiceRole**\n",
    "    - Page: Configure the crawler's output\n",
    "        - Database:  Click on ‘Add database’ and enter database name as **salesdb**.\n",
    "- Click on the button ‘Finish’ to create the crawler.\n",
    "- Select the new Crawler and click on Run crawler to run the Crawler.\n",
    "\n"
   ]
  },
  {
   "cell_type": "code",
   "execution_count": 17,
   "metadata": {
    "ExecuteTime": {
     "end_time": "2020-05-07T19:19:26.934102Z",
     "start_time": "2020-05-07T19:19:26.065688Z"
    }
   },
   "outputs": [
    {
     "data": {
      "application/vnd.jupyter.widget-view+json": {
       "model_id": "",
       "version_major": 2,
       "version_minor": 0
      },
      "text/plain": [
       "FloatProgress(value=0.0, bar_style='info', description='Progress:', layout=Layout(height='25px', width='50%'),…"
      ]
     },
     "metadata": {},
     "output_type": "display_data"
    },
    {
     "name": "stdout",
     "output_type": "stream",
     "text": [
      "++\n",
      "||\n",
      "++\n",
      "++\n",
      "\n",
      "+--------+------------------+-----------+\n",
      "|database|         tableName|isTemporary|\n",
      "+--------+------------------+-----------+\n",
      "| salesdb|          customer|      false|\n",
      "| salesdb|     customer_site|      false|\n",
      "| salesdb|           product|      false|\n",
      "| salesdb|  product_category|      false|\n",
      "| salesdb|       sales_order|      false|\n",
      "| salesdb|   sales_order_all|      false|\n",
      "| salesdb|sales_order_detail|      false|\n",
      "| salesdb|          supplier|      false|\n",
      "+--------+------------------+-----------+"
     ]
    }
   ],
   "source": [
    "spark.sql(\"use salesdb\").show()\n",
    "spark.sql(\"show tables\").show()"
   ]
  },
  {
   "cell_type": "markdown",
   "metadata": {},
   "source": [
    "### Transform the dataset\n",
    "\n",
    "Let's now denormalize the source tables where applicable and write out the data in Parquet format to the destination location:"
   ]
  },
  {
   "cell_type": "code",
   "execution_count": 18,
   "metadata": {
    "ExecuteTime": {
     "end_time": "2020-05-07T19:24:24.860116Z",
     "start_time": "2020-05-07T19:19:30.367999Z"
    }
   },
   "outputs": [
    {
     "data": {
      "application/vnd.jupyter.widget-view+json": {
       "model_id": "",
       "version_major": 2,
       "version_minor": 0
      },
      "text/plain": [
       "FloatProgress(value=0.0, bar_style='info', description='Progress:', layout=Layout(height='25px', width='50%'),…"
      ]
     },
     "metadata": {},
     "output_type": "display_data"
    },
    {
     "name": "stdout",
     "output_type": "stream",
     "text": [
      "s3://###s3_bucket###/data/sales_analytics/customer_dim\n",
      "<awsglue.dynamicframe.DynamicFrame object at 0x7f727cae0750>"
     ]
    }
   ],
   "source": [
    "db_name='salesdb'\n",
    "table1='customer'\n",
    "table2='customer_site'\n",
    "output_dir='s3://###s3_bucket###/data/sales_analytics/customer_dim'\n",
    "print (output_dir)\n",
    "\n",
    "# Read the Source Tables\n",
    "cust_dyf = glueContext.create_dynamic_frame.from_catalog(database = db_name, table_name = table1)\n",
    "cust_site_dyf = glueContext.create_dynamic_frame.from_catalog(database = db_name, table_name = table2)\n",
    "\n",
    "# Join the two Source Tables\n",
    "customer_dim_dyf = Join.apply(cust_dyf,cust_site_dyf,\n",
    "                       'cust_id', 'cust_id').drop_fields(['cust_id'])\n",
    "\n",
    "# Write the denormalized CUSTOMER_DIM table in Parquet\n",
    "glueContext.write_dynamic_frame.from_options(frame = customer_dim_dyf, connection_type = \"s3\", connection_options = {\"path\": output_dir}, format = \"parquet\")\n"
   ]
  },
  {
   "cell_type": "code",
   "execution_count": 19,
   "metadata": {
    "ExecuteTime": {
     "end_time": "2020-05-07T19:24:30.263840Z",
     "start_time": "2020-05-07T19:24:24.861854Z"
    }
   },
   "outputs": [
    {
     "data": {
      "application/vnd.jupyter.widget-view+json": {
       "model_id": "",
       "version_major": 2,
       "version_minor": 0
      },
      "text/plain": [
       "FloatProgress(value=0.0, bar_style='info', description='Progress:', layout=Layout(height='25px', width='50%'),…"
      ]
     },
     "metadata": {},
     "output_type": "display_data"
    },
    {
     "name": "stdout",
     "output_type": "stream",
     "text": [
      "s3://###s3_bucket###/data/sales_analytics/product_dim/\n",
      "<awsglue.dynamicframe.DynamicFrame object at 0x7f727caf21d0>"
     ]
    }
   ],
   "source": [
    "table1='product_category'\n",
    "table2='product'\n",
    "output_dir='s3://###s3_bucket###/data/sales_analytics/product_dim/'\n",
    "print (output_dir)\n",
    "\n",
    "# Read the Source Tables\n",
    "table1_dyf = glueContext.create_dynamic_frame.from_catalog(database = db_name, table_name = table1)\n",
    "table2_dyf = glueContext.create_dynamic_frame.from_catalog(database = db_name, table_name = table2)\n",
    "\n",
    "#Join the Source Tables\n",
    "product_dim_dyf = Join.apply(table1_dyf,table2_dyf,\n",
    "                       'category_id', 'category_id').drop_fields(['category_id'])\n",
    "\n",
    "# Write the denormalized CUSTOMER_DIM table in Parquet\n",
    "glueContext.write_dynamic_frame.from_options(frame = product_dim_dyf, connection_type = \"s3\", connection_options = {\"path\": output_dir}, format = \"parquet\")\n"
   ]
  },
  {
   "cell_type": "code",
   "execution_count": 20,
   "metadata": {
    "ExecuteTime": {
     "end_time": "2020-05-07T19:24:37.891998Z",
     "start_time": "2020-05-07T19:24:34.547923Z"
    }
   },
   "outputs": [
    {
     "data": {
      "application/vnd.jupyter.widget-view+json": {
       "model_id": "",
       "version_major": 2,
       "version_minor": 0
      },
      "text/plain": [
       "FloatProgress(value=0.0, bar_style='info', description='Progress:', layout=Layout(height='25px', width='50%'),…"
      ]
     },
     "metadata": {},
     "output_type": "display_data"
    },
    {
     "name": "stdout",
     "output_type": "stream",
     "text": [
      "s3://###s3_bucket###/data/sales_analytics/supplier_dim/\n",
      "<awsglue.dynamicframe.DynamicFrame object at 0x7f727f8abad0>"
     ]
    }
   ],
   "source": [
    "table1='supplier'\n",
    "output_dir='s3://###s3_bucket###/data/sales_analytics/supplier_dim/'\n",
    "print (output_dir)\n",
    "\n",
    "# Read the Source Tables\n",
    "table1_dyf = glueContext.create_dynamic_frame.from_catalog(database = db_name, table_name = table1)\n",
    "\n",
    "\n",
    "# Write the denormalized CUSTOMER_DIM table in Parquet\n",
    "glueContext.write_dynamic_frame.from_options(frame = table1_dyf, connection_type = \"s3\", connection_options = {\"path\": output_dir}, format = \"parquet\")"
   ]
  },
  {
   "cell_type": "code",
   "execution_count": 21,
   "metadata": {
    "ExecuteTime": {
     "end_time": "2020-05-07T19:24:41.042452Z",
     "start_time": "2020-05-07T19:24:40.970193Z"
    }
   },
   "outputs": [
    {
     "data": {
      "application/vnd.jupyter.widget-view+json": {
       "model_id": "",
       "version_major": 2,
       "version_minor": 0
      },
      "text/plain": [
       "FloatProgress(value=0.0, bar_style='info', description='Progress:', layout=Layout(height='25px', width='50%'),…"
      ]
     },
     "metadata": {},
     "output_type": "display_data"
    },
    {
     "name": "stdout",
     "output_type": "stream",
     "text": [
      "s3://###s3_bucket###/data/sales_analytics/sales_order_fact/"
     ]
    }
   ],
   "source": [
    "table1='sales_order_detail'\n",
    "table2='sales_order'\n",
    "output_dir='s3://###s3_bucket###/data/sales_analytics/sales_order_fact/'\n",
    "print (output_dir)"
   ]
  },
  {
   "cell_type": "markdown",
   "metadata": {},
   "source": [
    "For the 'sales_order_fact' table, we will try a different approach - \n",
    "\n",
    "- We will convert the AWS Glue DynamicFrame to a Spark DataFrame\n",
    "- Register the Spark Dataframe to a Spark Temporary View\n",
    "- Use Spark SQL to build the write out the target dataset.\n",
    "\n",
    "This demonstrates that AWS Glue DynamicFrames and Spark Dataframes are interchangeable and you can get the best of both worlds by using both the options where suitable."
   ]
  },
  {
   "cell_type": "code",
   "execution_count": 22,
   "metadata": {
    "ExecuteTime": {
     "end_time": "2020-05-07T19:24:50.517174Z",
     "start_time": "2020-05-07T19:24:48.180829Z"
    }
   },
   "outputs": [
    {
     "data": {
      "application/vnd.jupyter.widget-view+json": {
       "model_id": "",
       "version_major": 2,
       "version_minor": 0
      },
      "text/plain": [
       "FloatProgress(value=0.0, bar_style='info', description='Progress:', layout=Layout(height='25px', width='50%'),…"
      ]
     },
     "metadata": {},
     "output_type": "display_data"
    }
   ],
   "source": [
    "# Read the Source Tables\n",
    "table1_dyf = glueContext.create_dynamic_frame.from_catalog(database = db_name, table_name = table1)\n",
    "table2_dyf = glueContext.create_dynamic_frame.from_catalog(database = db_name, table_name = table2)"
   ]
  },
  {
   "cell_type": "code",
   "execution_count": 23,
   "metadata": {
    "ExecuteTime": {
     "end_time": "2020-05-07T19:24:57.778547Z",
     "start_time": "2020-05-07T19:24:57.665769Z"
    }
   },
   "outputs": [
    {
     "data": {
      "application/vnd.jupyter.widget-view+json": {
       "model_id": "",
       "version_major": 2,
       "version_minor": 0
      },
      "text/plain": [
       "FloatProgress(value=0.0, bar_style='info', description='Progress:', layout=Layout(height='25px', width='50%'),…"
      ]
     },
     "metadata": {},
     "output_type": "display_data"
    },
    {
     "name": "stdout",
     "output_type": "stream",
     "text": [
      "root\n",
      "|-- LINE_ID: int\n",
      "|-- LINE_NUMBER: int\n",
      "|-- ORDER_ID: int\n",
      "|-- PRODUCT_ID: int\n",
      "|-- QUANTITY: int\n",
      "|-- UNIT_PRICE: decimal\n",
      "|-- DISCOUNT: decimal\n",
      "|-- SUPPLY_COST: decimal\n",
      "|-- TAX: decimal"
     ]
    }
   ],
   "source": [
    "table1_dyf.printSchema()"
   ]
  },
  {
   "cell_type": "code",
   "execution_count": 24,
   "metadata": {
    "ExecuteTime": {
     "end_time": "2020-05-07T19:25:00.890496Z",
     "start_time": "2020-05-07T19:25:00.774632Z"
    }
   },
   "outputs": [
    {
     "data": {
      "application/vnd.jupyter.widget-view+json": {
       "model_id": "",
       "version_major": 2,
       "version_minor": 0
      },
      "text/plain": [
       "FloatProgress(value=0.0, bar_style='info', description='Progress:', layout=Layout(height='25px', width='50%'),…"
      ]
     },
     "metadata": {},
     "output_type": "display_data"
    },
    {
     "name": "stdout",
     "output_type": "stream",
     "text": [
      "root\n",
      "|-- ORDER_ID: int\n",
      "|-- SITE_ID: double\n",
      "|-- ORDER_DATE: timestamp\n",
      "|-- SHIP_MODE: string"
     ]
    }
   ],
   "source": [
    "table2_dyf.printSchema()"
   ]
  },
  {
   "cell_type": "code",
   "execution_count": 25,
   "metadata": {
    "ExecuteTime": {
     "end_time": "2020-05-07T19:25:03.262210Z",
     "start_time": "2020-05-07T19:25:03.149689Z"
    }
   },
   "outputs": [
    {
     "data": {
      "application/vnd.jupyter.widget-view+json": {
       "model_id": "",
       "version_major": 2,
       "version_minor": 0
      },
      "text/plain": [
       "FloatProgress(value=0.0, bar_style='info', description='Progress:', layout=Layout(height='25px', width='50%'),…"
      ]
     },
     "metadata": {},
     "output_type": "display_data"
    }
   ],
   "source": [
    "table1_dyf.toDF().createOrReplaceTempView(\"sales_order_v\")\n",
    "table2_dyf.toDF().createOrReplaceTempView(\"sales_order_detail_v\")"
   ]
  },
  {
   "cell_type": "code",
   "execution_count": 26,
   "metadata": {
    "ExecuteTime": {
     "end_time": "2020-05-07T19:25:22.864818Z",
     "start_time": "2020-05-07T19:25:13.496631Z"
    }
   },
   "outputs": [
    {
     "data": {
      "application/vnd.jupyter.widget-view+json": {
       "model_id": "",
       "version_major": 2,
       "version_minor": 0
      },
      "text/plain": [
       "FloatProgress(value=0.0, bar_style='info', description='Progress:', layout=Layout(height='25px', width='50%'),…"
      ]
     },
     "metadata": {},
     "output_type": "display_data"
    },
    {
     "name": "stdout",
     "output_type": "stream",
     "text": [
      "root\n",
      " |-- LINE_ID: integer (nullable = true)\n",
      " |-- LINE_NUMBER: integer (nullable = true)\n",
      " |-- ORDER_ID: integer (nullable = true)\n",
      " |-- PRODUCT_ID: integer (nullable = true)\n",
      " |-- QUANTITY: integer (nullable = true)\n",
      " |-- UNIT_PRICE: decimal(38,10) (nullable = true)\n",
      " |-- DISCOUNT: decimal(38,10) (nullable = true)\n",
      " |-- SUPPLY_COST: decimal(38,10) (nullable = true)\n",
      " |-- TAX: decimal(38,10) (nullable = true)\n",
      " |-- site_id: double (nullable = true)\n",
      " |-- order_date: timestamp (nullable = true)\n",
      " |-- ship_mode: string (nullable = true)\n",
      "\n",
      "98000"
     ]
    }
   ],
   "source": [
    "# Write the denormalized SALES_ORDER_FACT table\n",
    "df=spark.sql(\"SELECT a.*, b.site_id, b.order_date,b.ship_mode \\\n",
    "FROM sales_order_detail_v b, sales_order_v a \\\n",
    "WHERE a.order_id=b.order_id\")\n",
    "df.printSchema()\n",
    "print(df.count())\n",
    "df.coalesce(1).write.mode(\"OVERWRITE\").parquet(\"s3://###s3_bucket###/data/sales_analytics/sales_order_fact/\")"
   ]
  },
  {
   "cell_type": "markdown",
   "metadata": {},
   "source": [
    "Note that we used the power of Spark SQL for this transformation instead of AWS Glue DynamicFrame transforms. This dataset is small so we also coalesced the number of partitions in the Spark dataframe to 1 to ensure only 1 file gets written to our output location."
   ]
  },
  {
   "cell_type": "code",
   "execution_count": 28,
   "metadata": {
    "ExecuteTime": {
     "end_time": "2020-05-07T19:25:49.120945Z",
     "start_time": "2020-05-07T19:25:48.543160Z"
    }
   },
   "outputs": [
    {
     "name": "stdout",
     "output_type": "stream",
     "text": [
      "2020-05-07 19:25:22    2207233 part-00000-0f24406f-95ce-4c36-918f-67c5107858a1-c000.snappy.parquet\n"
     ]
    }
   ],
   "source": [
    "%%sh\n",
    "aws s3 ls s3://###s3_bucket###/data/sales_analytics/sales_order_fact/"
   ]
  },
  {
   "cell_type": "markdown",
   "metadata": {},
   "source": [
    "Now that the output data is in Amazon S3, let's crawl this dataset in AWS Glue and query this data using Amazon Athena."
   ]
  },
  {
   "cell_type": "markdown",
   "metadata": {},
   "source": [
    "### Crawl the Transformed Data\n",
    "\n",
    "- Navigate to the Glue console at Services -> Glue\n",
    "- From the left-hand panel menu, navigate to Data Catalog -> Crawlers.\n",
    "- Click on the button ‘Add Crawler’ to create a new Glue Crawler.\n",
    "- Fields to fill in:\n",
    "    - Page: Add information about your crawler\n",
    "        - Crawler name: **sales_analytics_crawler**\n",
    "    - Page: Add a data store\n",
    "        - Choose a data store: S3\n",
    "        - Include path: **s3://###s3_bucket###/data/sales_analytics/**\n",
    "    - Page: Choose an IAM role\n",
    "        - IAM Role: Choose an existing IAM role **glue-labs\\*GlueServiceRole**\n",
    "    - Page: Configure the crawler's output\n",
    "        - Database:  Click on ‘Add database’ and enter database name as **sales_analytics**.\n",
    "- Click on the button ‘Finish’ to create the crawler.\n",
    "- Select the new Crawler and click on Run crawler to run the Crawler.\n"
   ]
  },
  {
   "cell_type": "code",
   "execution_count": 29,
   "metadata": {
    "ExecuteTime": {
     "end_time": "2020-05-07T19:29:22.661143Z",
     "start_time": "2020-05-07T19:29:21.794004Z"
    }
   },
   "outputs": [
    {
     "data": {
      "application/vnd.jupyter.widget-view+json": {
       "model_id": "",
       "version_major": 2,
       "version_minor": 0
      },
      "text/plain": [
       "FloatProgress(value=0.0, bar_style='info', description='Progress:', layout=Layout(height='25px', width='50%'),…"
      ]
     },
     "metadata": {},
     "output_type": "display_data"
    },
    {
     "name": "stdout",
     "output_type": "stream",
     "text": [
      "++\n",
      "||\n",
      "++\n",
      "++\n",
      "\n",
      "+---------------+--------------------+-----------+\n",
      "|       database|           tableName|isTemporary|\n",
      "+---------------+--------------------+-----------+\n",
      "|sales_analytics|        customer_dim|      false|\n",
      "|sales_analytics|         product_dim|      false|\n",
      "|sales_analytics|    sales_order_fact|      false|\n",
      "|sales_analytics|        supplier_dim|      false|\n",
      "|               |sales_order_detail_v|       true|\n",
      "|               |       sales_order_v|       true|\n",
      "+---------------+--------------------+-----------+"
     ]
    }
   ],
   "source": [
    "spark.sql(\"use sales_analytics\").show()\n",
    "spark.sql(\"show tables\").show()"
   ]
  },
  {
   "cell_type": "markdown",
   "metadata": {},
   "source": [
    "## Activity 3 : Building an AWS Glue Workflow\n",
    "\n",
    "An AWS Glue workflow is an orchestration used to visualize and manage the relationship and execution of multiple AWS Glue triggers, jobs and crawlers. Let's now build an AWS Glue Workflow for the same. \n",
    "\n",
    "The 1st step is to create the AWS Glue Jobs. As the AWS Glue ETL code is already staged in our Amazon S3 bucket, we will simply call the AWS Glue APIs to create the AWS Glue Jobs."
   ]
  },
  {
   "cell_type": "code",
   "execution_count": 32,
   "metadata": {
    "ExecuteTime": {
     "end_time": "2020-05-07T19:30:17.800508Z",
     "start_time": "2020-05-07T19:30:17.082661Z"
    }
   },
   "outputs": [
    {
     "name": "stdout",
     "output_type": "stream",
     "text": [
      "{'Name': 'Load_SALES_ORDER_FACT', 'ResponseMetadata': {'RequestId': '1bfbe074-6b5b-4a9f-9995-f8b8245ef0fa', 'HTTPStatusCode': 200, 'HTTPHeaders': {'date': 'Thu, 07 May 2020 19:30:17 GMT', 'content-type': 'application/x-amz-json-1.1', 'content-length': '32', 'connection': 'keep-alive', 'x-amzn-requestid': '1bfbe074-6b5b-4a9f-9995-f8b8245ef0fa'}, 'RetryAttempts': 0}}\n",
      "{'Name': 'Load_PRODUCT_DIM', 'ResponseMetadata': {'RequestId': 'f700c51b-f42f-4a8c-9db1-be8ffddb6a5b', 'HTTPStatusCode': 200, 'HTTPHeaders': {'date': 'Thu, 07 May 2020 19:30:17 GMT', 'content-type': 'application/x-amz-json-1.1', 'content-length': '27', 'connection': 'keep-alive', 'x-amzn-requestid': 'f700c51b-f42f-4a8c-9db1-be8ffddb6a5b'}, 'RetryAttempts': 0}}\n",
      "{'Name': 'Load_CUSTOMER_DIM', 'ResponseMetadata': {'RequestId': '0feeb12b-7fe4-4ee0-8e1c-43aee8289292', 'HTTPStatusCode': 200, 'HTTPHeaders': {'date': 'Thu, 07 May 2020 19:30:17 GMT', 'content-type': 'application/x-amz-json-1.1', 'content-length': '28', 'connection': 'keep-alive', 'x-amzn-requestid': '0feeb12b-7fe4-4ee0-8e1c-43aee8289292'}, 'RetryAttempts': 0}}\n",
      "{'Name': 'Load_SUPPLIER_DIM', 'ResponseMetadata': {'RequestId': 'd5a9d3c2-79fd-4398-9e44-f47036b192f6', 'HTTPStatusCode': 200, 'HTTPHeaders': {'date': 'Thu, 07 May 2020 19:30:17 GMT', 'content-type': 'application/x-amz-json-1.1', 'content-length': '28', 'connection': 'keep-alive', 'x-amzn-requestid': 'd5a9d3c2-79fd-4398-9e44-f47036b192f6'}, 'RetryAttempts': 0}}\n"
     ]
    }
   ],
   "source": [
    "%local\n",
    "\n",
    "import boto3\n",
    "\n",
    "acct_number=boto3.client('sts').get_caller_identity().get('Account')\n",
    "bucket='###s3_bucket###'\n",
    "\n",
    "# Create the AWS Glue Spark Jobs\n",
    "glue = boto3.client(\"glue\")\n",
    "\n",
    "for job_name in ['Load_SALES_ORDER_FACT', 'Load_PRODUCT_DIM', 'Load_CUSTOMER_DIM','Load_SUPPLIER_DIM']:\n",
    "    response=glue.create_job(Name=job_name,\n",
    "                         Role=\"arn:aws:iam::%s:role/###iam_role###\"%acct_number,\n",
    "                         ExecutionProperty={'MaxConcurrentRuns': 1},\n",
    "                         Command={'Name': 'glueetl',\n",
    "                                  'ScriptLocation': 's3://%s/scripts/%s.py'%(bucket,job_name),\n",
    "                                  'PythonVersion': '3'},\n",
    "                         DefaultArguments={'--TempDir': 's3://%s/temp'%bucket,\n",
    "                                           '--enable-continuous-cloudwatch-log': 'true',\n",
    "                                           '--enable-glue-datacatalog': '',\n",
    "                                           '--enable-metrics': '',\n",
    "                                           '--enable-spark-ui': 'true',\n",
    "                                           '--spark-event-logs-path': 's3://%s/spark_glue_etl_logs/%s'%(bucket,job_name),\n",
    "                                           '--job-bookmark-option': 'job-bookmark-disable',\n",
    "                                           '--job-language': 'python',\n",
    "                                           '--S3_BUCKET': bucket },\n",
    "                         MaxRetries=0,\n",
    "                         Timeout=2880,\n",
    "                         MaxCapacity=3.0,\n",
    "                         GlueVersion='1.0',\n",
    "                         Tags={'Owner': 'Glue_Labs'}\n",
    "                        )\n",
    "    print (response)"
   ]
  },
  {
   "cell_type": "markdown",
   "metadata": {},
   "source": [
    "The Workflow consists of 3 AWS Glue triggers:\n",
    "\n",
    "- The 1st OnDemand Trigger loads the Dimension tables.\n",
    "- The 2nd Conditional Trigger loads the Fact table.\n",
    "- The 3rd Conditional Trigger updated the table definitions in the Catalog."
   ]
  },
  {
   "cell_type": "code",
   "execution_count": 33,
   "metadata": {
    "ExecuteTime": {
     "end_time": "2020-05-07T19:31:20.263868Z",
     "start_time": "2020-05-07T19:31:19.798324Z"
    }
   },
   "outputs": [
    {
     "name": "stdout",
     "output_type": "stream",
     "text": [
      "{'Name': 'Sales_Analytics_Workflow', 'ResponseMetadata': {'RequestId': 'a22ed418-687f-43c1-ad46-c7a56cad2d33', 'HTTPStatusCode': 200, 'HTTPHeaders': {'date': 'Thu, 07 May 2020 19:31:19 GMT', 'content-type': 'application/x-amz-json-1.1', 'content-length': '35', 'connection': 'keep-alive', 'x-amzn-requestid': 'a22ed418-687f-43c1-ad46-c7a56cad2d33'}, 'RetryAttempts': 0}}\n",
      "{'Name': '1_Load_Dimensions', 'ResponseMetadata': {'RequestId': '9c3aafb9-1bd9-4756-b660-01043a651516', 'HTTPStatusCode': 200, 'HTTPHeaders': {'date': 'Thu, 07 May 2020 19:31:19 GMT', 'content-type': 'application/x-amz-json-1.1', 'content-length': '28', 'connection': 'keep-alive', 'x-amzn-requestid': '9c3aafb9-1bd9-4756-b660-01043a651516'}, 'RetryAttempts': 0}}\n",
      "{'Name': '2_Load_Facts', 'ResponseMetadata': {'RequestId': '1d4692df-25f0-44ab-bac2-b23061ad4bf4', 'HTTPStatusCode': 200, 'HTTPHeaders': {'date': 'Thu, 07 May 2020 19:31:20 GMT', 'content-type': 'application/x-amz-json-1.1', 'content-length': '23', 'connection': 'keep-alive', 'x-amzn-requestid': '1d4692df-25f0-44ab-bac2-b23061ad4bf4'}, 'RetryAttempts': 0}}\n",
      "{'Name': '3_Update_Catalog', 'ResponseMetadata': {'RequestId': '6239aaa4-8804-41c2-a360-a02bdd3ead47', 'HTTPStatusCode': 200, 'HTTPHeaders': {'date': 'Thu, 07 May 2020 19:31:20 GMT', 'content-type': 'application/x-amz-json-1.1', 'content-length': '27', 'connection': 'keep-alive', 'x-amzn-requestid': '6239aaa4-8804-41c2-a360-a02bdd3ead47'}, 'RetryAttempts': 0}}\n"
     ]
    }
   ],
   "source": [
    "%local\n",
    "\n",
    "glue = boto3.client(\"glue\")\n",
    "\n",
    "# Create the AWS Glue Workflow\n",
    "response = glue.create_workflow(\n",
    "    Name='Sales_Analytics_Workflow',\n",
    "    Description='Sales Analytics Workflow v1.0'\n",
    ")\n",
    "print (response)\n",
    "\n",
    "# 1. The Trigger to load the Dimensions table\n",
    "response = glue.create_trigger(\n",
    "    Name='1_Load_Dimensions',\n",
    "    WorkflowName='Sales_Analytics_Workflow',\n",
    "    Type='ON_DEMAND',\n",
    "    Actions=[{'JobName': 'Load_CUSTOMER_DIM',\n",
    "    'Arguments': {'--job-bookmark-option': 'job-bookmark-disable'},\n",
    "    'Timeout': 2880},\n",
    "   {'JobName': 'Load_PRODUCT_DIM',\n",
    "    'Arguments': {'--job-bookmark-option': 'job-bookmark-disable'},\n",
    "    'Timeout': 2880},\n",
    "   {'JobName': 'Load_SUPPLIER_DIM',\n",
    "    'Arguments': {'--job-bookmark-option': 'job-bookmark-disable'},\n",
    "    'Timeout': 2880}]\n",
    ")\n",
    "print (response)  \n",
    "\n",
    "# 2. The Trigger to load the Facts table\n",
    "response = glue.create_trigger(\n",
    "    Name='2_Load_Facts',\n",
    "    WorkflowName='Sales_Analytics_Workflow',\n",
    "    Type='CONDITIONAL',\n",
    "    #StartOnCreation=True,\n",
    "    Actions=[{'JobName': 'Load_SALES_ORDER_FACT'}],\n",
    "    Predicate= {'Logical': 'ANY',\n",
    "    'Conditions': [{'LogicalOperator': 'EQUALS',\n",
    "                  'JobName': 'Load_SUPPLIER_DIM',\n",
    "                   'State': 'SUCCEEDED'},\n",
    "                  {'LogicalOperator': 'EQUALS',\n",
    "                   'JobName': 'Load_PRODUCT_DIM',\n",
    "                   'State': 'SUCCEEDED'},\n",
    "                  {'LogicalOperator': 'EQUALS',\n",
    "                   'JobName': 'Load_CUSTOMER_DIM',\n",
    "                   'State': 'SUCCEEDED'}]\n",
    "               }\n",
    ")\n",
    "print (response)  \n",
    "\n",
    "# Finally, the Trigger for the Crawler\n",
    "response = glue.create_trigger(\n",
    "    Name='3_Update_Catalog',\n",
    "    WorkflowName='Sales_Analytics_Workflow',\n",
    "    Type='CONDITIONAL',\n",
    "    StartOnCreation=True,\n",
    "    Actions=[{'CrawlerName': 'sales_analytics_crawler'}],\n",
    "    Predicate= {'Logical': 'ANY',\n",
    "   'Conditions': [{'LogicalOperator': 'EQUALS',\n",
    "     'JobName': 'Load_SALES_ORDER_FACT',\n",
    "     'State': 'SUCCEEDED'}]}\n",
    ")\n",
    "print (response)     "
   ]
  },
  {
   "cell_type": "markdown",
   "metadata": {},
   "source": [
    "Let's review the AWS Glue Workflow created:\n",
    "    \n",
    "- Navigate to the Glue Console at Service -> Glue\n",
    "- From the left-hand panel menu, choose Workflows\n",
    "- Select the Workflow 'Sales_Analytics_Workflow'.\n",
    "\n",
    "Your workflow should look like this:\n",
    "\n",
    "![title](../resources/Glue_Workflow.png)\n",
    "  "
   ]
  },
  {
   "cell_type": "markdown",
   "metadata": {},
   "source": [
    "Let us now run this workflow: \n",
    "\n",
    "- Select the workflow and click on 'Action - > Run' to launch the workflow\n",
    "- You can view the run details and visually track the progress of each acitvity in the workflow from the 'History' tab by selecting the workflow run and clicking on 'View Run Details'\n",
    "\n",
    "![title](../resources/View_Run_Details.png)\n"
   ]
  },
  {
   "cell_type": "markdown",
   "metadata": {},
   "source": [
    "## Wrap-up\n",
    "\n",
    "In this notebook, we ran exercises to perform: \n",
    "\n",
    "1. A CSV to Parquet conversion and observed how easy it is to transform and write data to an Amazon S3 bucket using AWS Glue, partitioned by key fields.\n",
    "2. A more complex transformation - denormalizing of a 3NF OLTP schema, and we observed how easy it is to perform complex data transformations using the power of both AWS Glue DynamicFrames and Spark SQL.\n",
    "3. We built and executed an AWS Glue Workflow to orchestrate multiple AWS Glue Jobs.\n"
   ]
  },
  {
   "cell_type": "code",
   "execution_count": null,
   "metadata": {},
   "outputs": [],
   "source": []
  }
 ],
 "metadata": {
  "kernelspec": {
   "display_name": "Sparkmagic (PySpark)",
   "language": "",
   "name": "pysparkkernel"
  },
  "language_info": {
   "codemirror_mode": {
    "name": "python",
    "version": 3
   },
   "mimetype": "text/x-python",
   "name": "pyspark",
   "pygments_lexer": "python3"
  }
 },
 "nbformat": 4,
 "nbformat_minor": 2
}
